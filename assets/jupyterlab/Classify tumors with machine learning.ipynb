{
 "cells": [
  {
   "cell_type": "markdown",
   "metadata": {
    "deletable": true,
    "editable": true
   },
   "source": [
    "# Classify tumors with machine learning\n",
    " \n",
    "This notebook explains how to use machine learning to classify tumor data. You develop your solution in three parts as follows:\n",
    "\n",
    "* An intuitive introduction to supervised learning concepts\n",
    "\n",
    "* A basic example of a machine learning model. \n",
    "\n",
    "* A deep dive into model stacking and parameter tuning, both of which are used in practice to significantly improve predictive accuracy\n",
    "\n",
    "Some guidelines for reading this notebook:\n",
    "\n",
    "* If you have no experience with machine learning: follow the entire notebook for a comprehensive walkthrough.\n",
    "\n",
    "* If you would like to read about decision trees, go to [section 2](#bullet-8).\n",
    "\n",
    "* If you would like to read about using XGBoost in practice, go to [section 3](#bullet-13).\n",
    "\n",
    "Some familiarity with Python is recommended."
   ]
  },
  {
   "cell_type": "markdown",
   "metadata": {
    "deletable": true,
    "editable": true
   },
   "source": [
    "## Table of contents\n",
    "1.0 [Introduction to supervised learning](#bullet-1)<br/>\n",
    "2.0 [Basic model: decision trees](#bullet-8)<br/> \n",
    "3.0 [Ensemble model: gradient boosting](#bullet-13)  \n",
    "4.0 [XGBoost: parameter tuning](#bullet-17)\n",
    "    "
   ]
  },
  {
   "cell_type": "markdown",
   "metadata": {
    "deletable": true,
    "editable": true
   },
   "source": [
    "## 1.0 Introduction to supervised learning<a class=\"anchor\" id=\"bullet-1\"></a>\n",
    "\n",
    "1.1 [What is machine learning?](#bullet-2)<br/>\n",
    "    1.2 [Defining the task](#bullet-3)<br/>\n",
    "    1.3 [How does an algorithm learn?](#bullet-4)<br/>\n",
    "    1.4 [Data preview](#bullet-5)<br/>\n",
    "    1.5 [Pre-processing](#bullet-6)<br/>\n",
    "    1.7 [Create train and test sets](#bullet-7)<br/>\n",
    "\n",
    "### 1.1 What is machine learning?<a class=\"anchor\" id=\"bullet-2\"></a>\n",
    "\n",
    "You use an algorithm (code) to create a model (mathematical function). The algorithm tries to find patterns in a sample of **training data** that can be used on future data. The model itself is a summary of these patterns, distilled into mathematical relationships between variables. The algorithm depends on **hyperparameters** that control how it looks for these patterns (that is, how it learns). \n",
    "\n",
    "The difficult part is to find parameters that balance accuracy and precision of the model with its ability to generalize.\n",
    "\n",
    "**Note:**\n",
    "* Accuracy and precision of predictions depend on the complexity of the model\n",
    "* Ability to generalize depends on how conservative the model is (how quickly it concludes that something is a pattern)\n",
    "\n",
    "This balancing act is called the **bias-variance tradeoff**, because a very complex model will represent all the specific nuances of its training data, therefore failing to generalize. In the opposite case, a simple model does not pick up enough of a pattern to ensure accuracy and precision of future predictions. \n",
    "\n",
    "Your job* is to pick an efficient algorithm and suitable model for our data set and learning task, and fine-tune its parameters to produce a balanced model.\n",
    "\n",
    "**apart from the arduous task of data pre-processing, which this notebook skims over for the sake of brevity (and sanity!)*\n",
    "\n",
    "\n",
    "### 1.2 Defining the task<a class=\"anchor\" id=\"bullet-3\"></a>\n",
    "\n",
    "The goal is to use an augmented version <a href=\"https://archive.ics.uci.edu/ml/datasets/Breast+Cancer+Wisconsin+%28Diagnostic%29\" target=\"_blank\" rel=\"noopener noreferrer\">this data set</a> to develop a predictive model which classifies breast tumors as malignant or benign depending on measurements of the tumor cells. The [augmented data set](https://apsportal.ibm.com/exchange/public/entry/view/c173693bf48aeb22e41bbe2b41d79c1f) includes statistical analysis values, such as the mean, for some of the measurements. In machine learning terms, the **target** (what you want to predict) is the diagnosis, and the **features** are the measurements. The data sample contains **observations** of tumor cases described by these two components.\n",
    "\n",
    "\n",
    "### 1.3 How does an algorithm learn?<a class=\"anchor\" id=\"bullet-4\"></a>\n",
    "\n",
    "1. Initialize the algorithm to produce a default model, and give it the feature data. The algorithm makes its first set of predictions (close to a random guess).\n",
    "2. The algorithm measures the error between its previous prediction and the true value of the targets. \n",
    "3. The algorithm adjusts its model-building to make the error smaller. Each adjustment represents a part of the pattern it is learning, and is used to process future data.\n",
    "4. It continues to predict, calculate error, and adjust.\n",
    "\n",
    "Remember that the algorithm is only using a training sample to perform step 3. If the algorithm makes an adjustment so that its predictions are *exactly* the targets, then it is **overfitted** to the training data. This means that it has lost the ability to generalize to new (unseen) observations, because it picked up a pattern that only applies to the data points it learned from.\n",
    "\n"
   ]
  },
  {
   "cell_type": "markdown",
   "metadata": {
    "deletable": true,
    "editable": true
   },
   "source": [
    "#### Load data\n",
    "To load the data:\n",
    "1. Go to the [data set](https://apsportal.ibm.com/exchange/public/entry/view/c173693bf48aeb22e41bbe2b41d79c1f) on the Watson Studio Community. \n",
    "1. Click the download icon and save the data set to your computer.  \n",
    "1. Load the `BreastCancerWisconsonDataSet.csv` file into your notebook. Click the **Data** icon on the notebook action bar. Drop the file into the box or browse to select the file. The file is loaded to your object storage and appears in the Data Assets section of the project. For more information, see <a href=\"https://datascience.ibm.com/docs/content/analyze-data/load-and-access-data.html\" target=\"_blank\" rel=\"noopener noreferrer\">Load and access data</a>.\n",
    "1. To load the data from the `BreastCancerWisconsonDataSet.csv` file into a pandas DataFrame, click in the next code cell and select **Insert to code > pandas DataFrame** under the file name.\n",
    "1. Make sure the object is named `df` instead of `df_data_1` in the last two lines of the **Insert to Code** block and then run the cell."
   ]
  },
  {
   "cell_type": "code",
   "execution_count": 1,
   "metadata": {
    "collapsed": false,
    "deletable": true,
    "editable": true,
    "jupyter": {
     "outputs_hidden": false
    },
    "scrolled": true
   },
   "outputs": [
    {
     "data": {
      "text/html": [
       "<div>\n",
       "<style>\n",
       "    .dataframe thead tr:only-child th {\n",
       "        text-align: right;\n",
       "    }\n",
       "\n",
       "    .dataframe thead th {\n",
       "        text-align: left;\n",
       "    }\n",
       "\n",
       "    .dataframe tbody tr th {\n",
       "        vertical-align: top;\n",
       "    }\n",
       "</style>\n",
       "<table border=\"1\" class=\"dataframe\">\n",
       "  <thead>\n",
       "    <tr style=\"text-align: right;\">\n",
       "      <th></th>\n",
       "      <th>id</th>\n",
       "      <th>diagnosis</th>\n",
       "      <th>radius_mean</th>\n",
       "      <th>texture_mean</th>\n",
       "      <th>perimeter_mean</th>\n",
       "      <th>area_mean</th>\n",
       "      <th>smoothness_mean</th>\n",
       "      <th>compactness_mean</th>\n",
       "      <th>concavity_mean</th>\n",
       "      <th>concave points_mean</th>\n",
       "      <th>...</th>\n",
       "      <th>radius_worst</th>\n",
       "      <th>texture_worst</th>\n",
       "      <th>perimeter_worst</th>\n",
       "      <th>area_worst</th>\n",
       "      <th>smoothness_worst</th>\n",
       "      <th>compactness_worst</th>\n",
       "      <th>concavity_worst</th>\n",
       "      <th>concave points_worst</th>\n",
       "      <th>symmetry_worst</th>\n",
       "      <th>fractal_dimension_worst</th>\n",
       "    </tr>\n",
       "  </thead>\n",
       "  <tbody>\n",
       "    <tr>\n",
       "      <th>0</th>\n",
       "      <td>8670</td>\n",
       "      <td>M</td>\n",
       "      <td>15.46</td>\n",
       "      <td>19.48</td>\n",
       "      <td>101.70</td>\n",
       "      <td>748.9</td>\n",
       "      <td>0.10920</td>\n",
       "      <td>0.12230</td>\n",
       "      <td>0.14660</td>\n",
       "      <td>0.08087</td>\n",
       "      <td>...</td>\n",
       "      <td>19.26</td>\n",
       "      <td>26.00</td>\n",
       "      <td>124.90</td>\n",
       "      <td>1156.0</td>\n",
       "      <td>0.15460</td>\n",
       "      <td>0.2394</td>\n",
       "      <td>0.3791</td>\n",
       "      <td>0.15140</td>\n",
       "      <td>0.2837</td>\n",
       "      <td>0.08019</td>\n",
       "    </tr>\n",
       "    <tr>\n",
       "      <th>1</th>\n",
       "      <td>8913</td>\n",
       "      <td>B</td>\n",
       "      <td>12.89</td>\n",
       "      <td>13.12</td>\n",
       "      <td>81.89</td>\n",
       "      <td>515.9</td>\n",
       "      <td>0.06955</td>\n",
       "      <td>0.03729</td>\n",
       "      <td>0.02260</td>\n",
       "      <td>0.01171</td>\n",
       "      <td>...</td>\n",
       "      <td>13.62</td>\n",
       "      <td>15.54</td>\n",
       "      <td>87.40</td>\n",
       "      <td>577.0</td>\n",
       "      <td>0.09616</td>\n",
       "      <td>0.1147</td>\n",
       "      <td>0.1186</td>\n",
       "      <td>0.05366</td>\n",
       "      <td>0.2309</td>\n",
       "      <td>0.06915</td>\n",
       "    </tr>\n",
       "    <tr>\n",
       "      <th>2</th>\n",
       "      <td>8915</td>\n",
       "      <td>B</td>\n",
       "      <td>14.96</td>\n",
       "      <td>19.10</td>\n",
       "      <td>97.03</td>\n",
       "      <td>687.3</td>\n",
       "      <td>0.08992</td>\n",
       "      <td>0.09823</td>\n",
       "      <td>0.05940</td>\n",
       "      <td>0.04819</td>\n",
       "      <td>...</td>\n",
       "      <td>16.25</td>\n",
       "      <td>26.19</td>\n",
       "      <td>109.10</td>\n",
       "      <td>809.8</td>\n",
       "      <td>0.13130</td>\n",
       "      <td>0.3030</td>\n",
       "      <td>0.1804</td>\n",
       "      <td>0.14890</td>\n",
       "      <td>0.2962</td>\n",
       "      <td>0.08472</td>\n",
       "    </tr>\n",
       "    <tr>\n",
       "      <th>3</th>\n",
       "      <td>9047</td>\n",
       "      <td>B</td>\n",
       "      <td>12.94</td>\n",
       "      <td>16.17</td>\n",
       "      <td>83.18</td>\n",
       "      <td>507.6</td>\n",
       "      <td>0.09879</td>\n",
       "      <td>0.08836</td>\n",
       "      <td>0.03296</td>\n",
       "      <td>0.02390</td>\n",
       "      <td>...</td>\n",
       "      <td>13.86</td>\n",
       "      <td>23.02</td>\n",
       "      <td>89.69</td>\n",
       "      <td>580.9</td>\n",
       "      <td>0.11720</td>\n",
       "      <td>0.1958</td>\n",
       "      <td>0.1810</td>\n",
       "      <td>0.08388</td>\n",
       "      <td>0.3297</td>\n",
       "      <td>0.07834</td>\n",
       "    </tr>\n",
       "    <tr>\n",
       "      <th>4</th>\n",
       "      <td>85715</td>\n",
       "      <td>M</td>\n",
       "      <td>13.17</td>\n",
       "      <td>18.66</td>\n",
       "      <td>85.98</td>\n",
       "      <td>534.6</td>\n",
       "      <td>0.11580</td>\n",
       "      <td>0.12310</td>\n",
       "      <td>0.12260</td>\n",
       "      <td>0.07340</td>\n",
       "      <td>...</td>\n",
       "      <td>15.67</td>\n",
       "      <td>27.95</td>\n",
       "      <td>102.80</td>\n",
       "      <td>759.4</td>\n",
       "      <td>0.17860</td>\n",
       "      <td>0.4166</td>\n",
       "      <td>0.5006</td>\n",
       "      <td>0.20880</td>\n",
       "      <td>0.3900</td>\n",
       "      <td>0.11790</td>\n",
       "    </tr>\n",
       "  </tbody>\n",
       "</table>\n",
       "<p>5 rows × 32 columns</p>\n",
       "</div>"
      ],
      "text/plain": [
       "      id diagnosis  radius_mean  texture_mean  perimeter_mean  area_mean  \\\n",
       "0   8670         M        15.46         19.48          101.70      748.9   \n",
       "1   8913         B        12.89         13.12           81.89      515.9   \n",
       "2   8915         B        14.96         19.10           97.03      687.3   \n",
       "3   9047         B        12.94         16.17           83.18      507.6   \n",
       "4  85715         M        13.17         18.66           85.98      534.6   \n",
       "\n",
       "   smoothness_mean  compactness_mean  concavity_mean  concave points_mean  \\\n",
       "0          0.10920           0.12230         0.14660              0.08087   \n",
       "1          0.06955           0.03729         0.02260              0.01171   \n",
       "2          0.08992           0.09823         0.05940              0.04819   \n",
       "3          0.09879           0.08836         0.03296              0.02390   \n",
       "4          0.11580           0.12310         0.12260              0.07340   \n",
       "\n",
       "            ...             radius_worst  texture_worst  perimeter_worst  \\\n",
       "0           ...                    19.26          26.00           124.90   \n",
       "1           ...                    13.62          15.54            87.40   \n",
       "2           ...                    16.25          26.19           109.10   \n",
       "3           ...                    13.86          23.02            89.69   \n",
       "4           ...                    15.67          27.95           102.80   \n",
       "\n",
       "   area_worst  smoothness_worst  compactness_worst  concavity_worst  \\\n",
       "0      1156.0           0.15460             0.2394           0.3791   \n",
       "1       577.0           0.09616             0.1147           0.1186   \n",
       "2       809.8           0.13130             0.3030           0.1804   \n",
       "3       580.9           0.11720             0.1958           0.1810   \n",
       "4       759.4           0.17860             0.4166           0.5006   \n",
       "\n",
       "   concave points_worst  symmetry_worst  fractal_dimension_worst  \n",
       "0               0.15140          0.2837                  0.08019  \n",
       "1               0.05366          0.2309                  0.06915  \n",
       "2               0.14890          0.2962                  0.08472  \n",
       "3               0.08388          0.3297                  0.07834  \n",
       "4               0.20880          0.3900                  0.11790  \n",
       "\n",
       "[5 rows x 32 columns]"
      ]
     },
     "execution_count": 1,
     "metadata": {},
     "output_type": "execute_result"
    }
   ],
   "source": [
    "#\n",
    "# @hidden_cell\n",
    "# This connection object is used to access your data and contains your credentials.\n",
    "# You might want to remove those credentials before you share your notebook.\n",
    "\n",
    "from project_lib import Project\n",
    "project = Project.access()\n",
    "BreastCancerMalignancy_credentials = project.get_connected_data(name=\"BreastCancerMalignancy\")\n",
    "\n",
    "import os, jaydebeapi, pandas as pd\n",
    "\n",
    "BreastCancerMalignancy_port = BreastCancerMalignancy_credentials.get('port', 50000)\n",
    "\n",
    "BreastCancerMalignancy_connect_string = '{}://{}:{}/{}'.format(\n",
    "    'jdbc:db2',\n",
    "    BreastCancerMalignancy_credentials['host'],\n",
    "    BreastCancerMalignancy_port,\n",
    "    BreastCancerMalignancy_credentials['database']\n",
    ")\n",
    "\n",
    "if(BreastCancerMalignancy_credentials.get('ssl','false') == 'true'):\n",
    "    BreastCancerMalignancy_connect_string = BreastCancerMalignancy_connect_string + ':sslConnection=true;'\n",
    "    if BreastCancerMalignancy_credentials.get('ssl_certificate', None):\n",
    "        cert_file_path = os.path.join(os.path.expanduser('~'),'BreastCancerMalignancy_ssl.cert')\n",
    "        f = open(cert_file_path, \"w\")\n",
    "        f.write(BreastCancerMalignancy_credentials['ssl_certificate'])\n",
    "        f.close()\n",
    "        BreastCancerMalignancy_connect_string = BreastCancerMalignancy_connect_string + 'sslCertLocation=' + cert_file_path + ';'\n",
    "\n",
    "BreastCancerMalignancy_connection = jaydebeapi.connect(\n",
    "    'com.ibm.db2.jcc.DB2Driver',\n",
    "    BreastCancerMalignancy_connect_string,\n",
    "    [BreastCancerMalignancy_credentials['username'],BreastCancerMalignancy_credentials['password']]\n",
    ")\n",
    "\n",
    "# In the following query, the schema and table name are in quotes in order to support case-sensitive names or labels\n",
    "query = 'SELECT * FROM \"EDW\".\"BREASTCANCER\"'\n",
    "# If your database does not support case-sensitive names or quoted names, you can use the following query:\n",
    "#query = 'SELECT * FROM EDW.BREASTCANCER'\n",
    "\n",
    "df = pd.read_sql(query, con=BreastCancerMalignancy_connection)\n",
    "df.head()\n",
    "\n",
    "# Close the database connection with the following code:\n",
    "# BreastCancerMalignancy_connection.close()\n",
    "# To learn more about the jaydebeapi package, please read the documentation: https://pypi.org/project/JayDeBeApi/\n",
    "\n",
    "\n"
   ]
  },
  {
   "cell_type": "markdown",
   "metadata": {
    "deletable": true,
    "editable": true
   },
   "source": [
    "### 1.4 Data preview<a class=\"anchor\" id=\"bullet-5\"></a>\n",
    "\n",
    "In the following data table, each row corresponds to one observation of a tumor. The columns contain the measurement features, with one column containing the diagnosis target."
   ]
  },
  {
   "cell_type": "code",
   "execution_count": 2,
   "metadata": {
    "collapsed": false,
    "deletable": true,
    "editable": true,
    "jupyter": {
     "outputs_hidden": false
    },
    "scrolled": true
   },
   "outputs": [
    {
     "name": "stdout",
     "output_type": "stream",
     "text": [
      "(569, 32)\n"
     ]
    },
    {
     "data": {
      "text/html": [
       "<div>\n",
       "<style>\n",
       "    .dataframe thead tr:only-child th {\n",
       "        text-align: right;\n",
       "    }\n",
       "\n",
       "    .dataframe thead th {\n",
       "        text-align: left;\n",
       "    }\n",
       "\n",
       "    .dataframe tbody tr th {\n",
       "        vertical-align: top;\n",
       "    }\n",
       "</style>\n",
       "<table border=\"1\" class=\"dataframe\">\n",
       "  <thead>\n",
       "    <tr style=\"text-align: right;\">\n",
       "      <th></th>\n",
       "      <th>id</th>\n",
       "      <th>diagnosis</th>\n",
       "      <th>radius_mean</th>\n",
       "      <th>texture_mean</th>\n",
       "      <th>perimeter_mean</th>\n",
       "      <th>area_mean</th>\n",
       "      <th>smoothness_mean</th>\n",
       "      <th>compactness_mean</th>\n",
       "      <th>concavity_mean</th>\n",
       "      <th>concave points_mean</th>\n",
       "      <th>...</th>\n",
       "      <th>radius_worst</th>\n",
       "      <th>texture_worst</th>\n",
       "      <th>perimeter_worst</th>\n",
       "      <th>area_worst</th>\n",
       "      <th>smoothness_worst</th>\n",
       "      <th>compactness_worst</th>\n",
       "      <th>concavity_worst</th>\n",
       "      <th>concave points_worst</th>\n",
       "      <th>symmetry_worst</th>\n",
       "      <th>fractal_dimension_worst</th>\n",
       "    </tr>\n",
       "  </thead>\n",
       "  <tbody>\n",
       "    <tr>\n",
       "      <th>200</th>\n",
       "      <td>887549</td>\n",
       "      <td>M</td>\n",
       "      <td>20.31</td>\n",
       "      <td>27.06</td>\n",
       "      <td>132.90</td>\n",
       "      <td>1288.0</td>\n",
       "      <td>0.10000</td>\n",
       "      <td>0.10880</td>\n",
       "      <td>0.15190</td>\n",
       "      <td>0.09333</td>\n",
       "      <td>...</td>\n",
       "      <td>24.33</td>\n",
       "      <td>39.16</td>\n",
       "      <td>162.30</td>\n",
       "      <td>1844.0</td>\n",
       "      <td>0.15220</td>\n",
       "      <td>0.29450</td>\n",
       "      <td>0.37880</td>\n",
       "      <td>0.16970</td>\n",
       "      <td>0.3151</td>\n",
       "      <td>0.07999</td>\n",
       "    </tr>\n",
       "    <tr>\n",
       "      <th>201</th>\n",
       "      <td>888264</td>\n",
       "      <td>M</td>\n",
       "      <td>17.35</td>\n",
       "      <td>23.06</td>\n",
       "      <td>111.00</td>\n",
       "      <td>933.1</td>\n",
       "      <td>0.08662</td>\n",
       "      <td>0.06290</td>\n",
       "      <td>0.02891</td>\n",
       "      <td>0.02837</td>\n",
       "      <td>...</td>\n",
       "      <td>19.85</td>\n",
       "      <td>31.47</td>\n",
       "      <td>128.20</td>\n",
       "      <td>1218.0</td>\n",
       "      <td>0.12400</td>\n",
       "      <td>0.14860</td>\n",
       "      <td>0.12110</td>\n",
       "      <td>0.08235</td>\n",
       "      <td>0.2452</td>\n",
       "      <td>0.06515</td>\n",
       "    </tr>\n",
       "    <tr>\n",
       "      <th>202</th>\n",
       "      <td>888570</td>\n",
       "      <td>M</td>\n",
       "      <td>17.29</td>\n",
       "      <td>22.13</td>\n",
       "      <td>114.40</td>\n",
       "      <td>947.8</td>\n",
       "      <td>0.08999</td>\n",
       "      <td>0.12730</td>\n",
       "      <td>0.09697</td>\n",
       "      <td>0.07507</td>\n",
       "      <td>...</td>\n",
       "      <td>20.39</td>\n",
       "      <td>27.24</td>\n",
       "      <td>137.90</td>\n",
       "      <td>1295.0</td>\n",
       "      <td>0.11340</td>\n",
       "      <td>0.28670</td>\n",
       "      <td>0.22980</td>\n",
       "      <td>0.15280</td>\n",
       "      <td>0.3067</td>\n",
       "      <td>0.07484</td>\n",
       "    </tr>\n",
       "    <tr>\n",
       "      <th>203</th>\n",
       "      <td>889403</td>\n",
       "      <td>M</td>\n",
       "      <td>15.61</td>\n",
       "      <td>19.38</td>\n",
       "      <td>100.00</td>\n",
       "      <td>758.6</td>\n",
       "      <td>0.07840</td>\n",
       "      <td>0.05616</td>\n",
       "      <td>0.04209</td>\n",
       "      <td>0.02847</td>\n",
       "      <td>...</td>\n",
       "      <td>17.91</td>\n",
       "      <td>31.67</td>\n",
       "      <td>115.90</td>\n",
       "      <td>988.6</td>\n",
       "      <td>0.10840</td>\n",
       "      <td>0.18070</td>\n",
       "      <td>0.22600</td>\n",
       "      <td>0.08568</td>\n",
       "      <td>0.2683</td>\n",
       "      <td>0.06829</td>\n",
       "    </tr>\n",
       "    <tr>\n",
       "      <th>204</th>\n",
       "      <td>889719</td>\n",
       "      <td>M</td>\n",
       "      <td>17.19</td>\n",
       "      <td>22.07</td>\n",
       "      <td>111.60</td>\n",
       "      <td>928.3</td>\n",
       "      <td>0.09726</td>\n",
       "      <td>0.08995</td>\n",
       "      <td>0.09061</td>\n",
       "      <td>0.06527</td>\n",
       "      <td>...</td>\n",
       "      <td>21.58</td>\n",
       "      <td>29.33</td>\n",
       "      <td>140.50</td>\n",
       "      <td>1436.0</td>\n",
       "      <td>0.15580</td>\n",
       "      <td>0.25670</td>\n",
       "      <td>0.38890</td>\n",
       "      <td>0.19840</td>\n",
       "      <td>0.3216</td>\n",
       "      <td>0.07570</td>\n",
       "    </tr>\n",
       "    <tr>\n",
       "      <th>205</th>\n",
       "      <td>891670</td>\n",
       "      <td>B</td>\n",
       "      <td>12.95</td>\n",
       "      <td>16.02</td>\n",
       "      <td>83.14</td>\n",
       "      <td>513.7</td>\n",
       "      <td>0.10050</td>\n",
       "      <td>0.07943</td>\n",
       "      <td>0.06155</td>\n",
       "      <td>0.03370</td>\n",
       "      <td>...</td>\n",
       "      <td>13.74</td>\n",
       "      <td>19.93</td>\n",
       "      <td>88.81</td>\n",
       "      <td>585.4</td>\n",
       "      <td>0.14830</td>\n",
       "      <td>0.20680</td>\n",
       "      <td>0.22410</td>\n",
       "      <td>0.10560</td>\n",
       "      <td>0.3380</td>\n",
       "      <td>0.09584</td>\n",
       "    </tr>\n",
       "    <tr>\n",
       "      <th>206</th>\n",
       "      <td>891703</td>\n",
       "      <td>B</td>\n",
       "      <td>11.85</td>\n",
       "      <td>17.46</td>\n",
       "      <td>75.54</td>\n",
       "      <td>432.7</td>\n",
       "      <td>0.08372</td>\n",
       "      <td>0.05642</td>\n",
       "      <td>0.02688</td>\n",
       "      <td>0.02280</td>\n",
       "      <td>...</td>\n",
       "      <td>13.06</td>\n",
       "      <td>25.75</td>\n",
       "      <td>84.35</td>\n",
       "      <td>517.8</td>\n",
       "      <td>0.13690</td>\n",
       "      <td>0.17580</td>\n",
       "      <td>0.13160</td>\n",
       "      <td>0.09140</td>\n",
       "      <td>0.3101</td>\n",
       "      <td>0.07007</td>\n",
       "    </tr>\n",
       "    <tr>\n",
       "      <th>207</th>\n",
       "      <td>891716</td>\n",
       "      <td>B</td>\n",
       "      <td>12.72</td>\n",
       "      <td>13.78</td>\n",
       "      <td>81.78</td>\n",
       "      <td>492.1</td>\n",
       "      <td>0.09667</td>\n",
       "      <td>0.08393</td>\n",
       "      <td>0.01288</td>\n",
       "      <td>0.01924</td>\n",
       "      <td>...</td>\n",
       "      <td>13.50</td>\n",
       "      <td>17.48</td>\n",
       "      <td>88.54</td>\n",
       "      <td>553.7</td>\n",
       "      <td>0.12980</td>\n",
       "      <td>0.14720</td>\n",
       "      <td>0.05233</td>\n",
       "      <td>0.06343</td>\n",
       "      <td>0.2369</td>\n",
       "      <td>0.06922</td>\n",
       "    </tr>\n",
       "    <tr>\n",
       "      <th>208</th>\n",
       "      <td>891923</td>\n",
       "      <td>B</td>\n",
       "      <td>13.77</td>\n",
       "      <td>13.27</td>\n",
       "      <td>88.06</td>\n",
       "      <td>582.7</td>\n",
       "      <td>0.09198</td>\n",
       "      <td>0.06221</td>\n",
       "      <td>0.01063</td>\n",
       "      <td>0.01917</td>\n",
       "      <td>...</td>\n",
       "      <td>14.67</td>\n",
       "      <td>16.93</td>\n",
       "      <td>94.17</td>\n",
       "      <td>661.1</td>\n",
       "      <td>0.11700</td>\n",
       "      <td>0.10720</td>\n",
       "      <td>0.03732</td>\n",
       "      <td>0.05802</td>\n",
       "      <td>0.2823</td>\n",
       "      <td>0.06794</td>\n",
       "    </tr>\n",
       "    <tr>\n",
       "      <th>209</th>\n",
       "      <td>891936</td>\n",
       "      <td>B</td>\n",
       "      <td>10.91</td>\n",
       "      <td>12.35</td>\n",
       "      <td>69.14</td>\n",
       "      <td>363.7</td>\n",
       "      <td>0.08518</td>\n",
       "      <td>0.04721</td>\n",
       "      <td>0.01236</td>\n",
       "      <td>0.01369</td>\n",
       "      <td>...</td>\n",
       "      <td>11.37</td>\n",
       "      <td>14.82</td>\n",
       "      <td>72.42</td>\n",
       "      <td>392.2</td>\n",
       "      <td>0.09312</td>\n",
       "      <td>0.07506</td>\n",
       "      <td>0.02884</td>\n",
       "      <td>0.03194</td>\n",
       "      <td>0.2143</td>\n",
       "      <td>0.06643</td>\n",
       "    </tr>\n",
       "  </tbody>\n",
       "</table>\n",
       "<p>10 rows × 32 columns</p>\n",
       "</div>"
      ],
      "text/plain": [
       "         id diagnosis  radius_mean  texture_mean  perimeter_mean  area_mean  \\\n",
       "200  887549         M        20.31         27.06          132.90     1288.0   \n",
       "201  888264         M        17.35         23.06          111.00      933.1   \n",
       "202  888570         M        17.29         22.13          114.40      947.8   \n",
       "203  889403         M        15.61         19.38          100.00      758.6   \n",
       "204  889719         M        17.19         22.07          111.60      928.3   \n",
       "205  891670         B        12.95         16.02           83.14      513.7   \n",
       "206  891703         B        11.85         17.46           75.54      432.7   \n",
       "207  891716         B        12.72         13.78           81.78      492.1   \n",
       "208  891923         B        13.77         13.27           88.06      582.7   \n",
       "209  891936         B        10.91         12.35           69.14      363.7   \n",
       "\n",
       "     smoothness_mean  compactness_mean  concavity_mean  concave points_mean  \\\n",
       "200          0.10000           0.10880         0.15190              0.09333   \n",
       "201          0.08662           0.06290         0.02891              0.02837   \n",
       "202          0.08999           0.12730         0.09697              0.07507   \n",
       "203          0.07840           0.05616         0.04209              0.02847   \n",
       "204          0.09726           0.08995         0.09061              0.06527   \n",
       "205          0.10050           0.07943         0.06155              0.03370   \n",
       "206          0.08372           0.05642         0.02688              0.02280   \n",
       "207          0.09667           0.08393         0.01288              0.01924   \n",
       "208          0.09198           0.06221         0.01063              0.01917   \n",
       "209          0.08518           0.04721         0.01236              0.01369   \n",
       "\n",
       "              ...             radius_worst  texture_worst  perimeter_worst  \\\n",
       "200           ...                    24.33          39.16           162.30   \n",
       "201           ...                    19.85          31.47           128.20   \n",
       "202           ...                    20.39          27.24           137.90   \n",
       "203           ...                    17.91          31.67           115.90   \n",
       "204           ...                    21.58          29.33           140.50   \n",
       "205           ...                    13.74          19.93            88.81   \n",
       "206           ...                    13.06          25.75            84.35   \n",
       "207           ...                    13.50          17.48            88.54   \n",
       "208           ...                    14.67          16.93            94.17   \n",
       "209           ...                    11.37          14.82            72.42   \n",
       "\n",
       "     area_worst  smoothness_worst  compactness_worst  concavity_worst  \\\n",
       "200      1844.0           0.15220            0.29450          0.37880   \n",
       "201      1218.0           0.12400            0.14860          0.12110   \n",
       "202      1295.0           0.11340            0.28670          0.22980   \n",
       "203       988.6           0.10840            0.18070          0.22600   \n",
       "204      1436.0           0.15580            0.25670          0.38890   \n",
       "205       585.4           0.14830            0.20680          0.22410   \n",
       "206       517.8           0.13690            0.17580          0.13160   \n",
       "207       553.7           0.12980            0.14720          0.05233   \n",
       "208       661.1           0.11700            0.10720          0.03732   \n",
       "209       392.2           0.09312            0.07506          0.02884   \n",
       "\n",
       "     concave points_worst  symmetry_worst  fractal_dimension_worst  \n",
       "200               0.16970          0.3151                  0.07999  \n",
       "201               0.08235          0.2452                  0.06515  \n",
       "202               0.15280          0.3067                  0.07484  \n",
       "203               0.08568          0.2683                  0.06829  \n",
       "204               0.19840          0.3216                  0.07570  \n",
       "205               0.10560          0.3380                  0.09584  \n",
       "206               0.09140          0.3101                  0.07007  \n",
       "207               0.06343          0.2369                  0.06922  \n",
       "208               0.05802          0.2823                  0.06794  \n",
       "209               0.03194          0.2143                  0.06643  \n",
       "\n",
       "[10 rows x 32 columns]"
      ]
     },
     "metadata": {},
     "output_type": "display_data"
    }
   ],
   "source": [
    "from IPython.display import display\n",
    "print (df.shape)\n",
    "display(df[200:210])"
   ]
  },
  {
   "cell_type": "markdown",
   "metadata": {
    "deletable": true,
    "editable": true
   },
   "source": [
    "The data contains features extracted from 569 diagnostic images of breast tumors. The diagnosis column indicates whether the mass was benign (B), or malignant (M). The rest of the columns contain features which are structured as follows:\n",
    "\n",
    "10 variables describe the cell nuclei of each mass, and for each variable, the mean, standard deviation, and 'worst' (mean of three largest measurements) are calculated. The variables are briefly described on the <a href=\"https://archive.ics.uci.edu/ml/datasets/Breast+Cancer+Wisconsin+%28Diagnostic%29\" target=\"_blank\" rel=\"noopener noreferrer\">original data set page</a>.\n"
   ]
  },
  {
   "cell_type": "markdown",
   "metadata": {
    "deletable": true,
    "editable": true
   },
   "source": [
    "### 1.5 Pre-processing<a class=\"anchor\" id=\"bullet-6\"></a>\n",
    "\n",
    "The following code cell gently cleans the data and generates a summary that can be used to check for outliers. This data set is well prepared for analysis and does not require further manipulation.\n",
    "\n",
    "If you don't have scikit-learn library installed, install it."
   ]
  },
  {
   "cell_type": "code",
   "execution_count": 3,
   "metadata": {
    "collapsed": false,
    "deletable": true,
    "editable": true,
    "jupyter": {
     "outputs_hidden": false
    }
   },
   "outputs": [
    {
     "name": "stdout",
     "output_type": "stream",
     "text": [
      "Collecting scikit-learn\n",
      "  Using cached https://files.pythonhosted.org/packages/dc/8f/416ccf81408cd8ea84be2a38efe34cc885966c4b6edbe705d2642e22d208/scikit_learn-0.20.0-cp35-cp35m-manylinux1_x86_64.whl\n",
      "Requirement already satisfied, skipping upgrade: scipy>=0.13.3 in /opt/conda3/lib/python3.5/site-packages (from scikit-learn) (1.1.0)\n",
      "Requirement already satisfied, skipping upgrade: numpy>=1.8.2 in /opt/conda3/lib/python3.5/site-packages (from scikit-learn) (1.14.5)\n",
      "Installing collected packages: scikit-learn\n",
      "  Found existing installation: scikit-learn 0.19.2\n",
      "    Uninstalling scikit-learn-0.19.2:\n",
      "      Successfully uninstalled scikit-learn-0.19.2\n",
      "Successfully installed scikit-learn-0.20.0\n",
      "\u001b[33mYou are using pip version 18.0, however version 18.1 is available.\n",
      "You should consider upgrading via the 'pip install --upgrade pip' command.\u001b[0m\n"
     ]
    }
   ],
   "source": [
    "!pip install -U scikit-learn"
   ]
  },
  {
   "cell_type": "code",
   "execution_count": 4,
   "metadata": {
    "collapsed": false,
    "deletable": true,
    "editable": true,
    "jupyter": {
     "outputs_hidden": false
    },
    "scrolled": true
   },
   "outputs": [
    {
     "data": {
      "text/html": [
       "<div>\n",
       "<style>\n",
       "    .dataframe thead tr:only-child th {\n",
       "        text-align: right;\n",
       "    }\n",
       "\n",
       "    .dataframe thead th {\n",
       "        text-align: left;\n",
       "    }\n",
       "\n",
       "    .dataframe tbody tr th {\n",
       "        vertical-align: top;\n",
       "    }\n",
       "</style>\n",
       "<table border=\"1\" class=\"dataframe\">\n",
       "  <thead>\n",
       "    <tr style=\"text-align: right;\">\n",
       "      <th></th>\n",
       "      <th>id</th>\n",
       "      <th>diagnosis</th>\n",
       "      <th>radius_mean</th>\n",
       "      <th>texture_mean</th>\n",
       "      <th>perimeter_mean</th>\n",
       "      <th>area_mean</th>\n",
       "      <th>smoothness_mean</th>\n",
       "      <th>compactness_mean</th>\n",
       "      <th>concavity_mean</th>\n",
       "      <th>concave points_mean</th>\n",
       "      <th>...</th>\n",
       "      <th>radius_worst</th>\n",
       "      <th>texture_worst</th>\n",
       "      <th>perimeter_worst</th>\n",
       "      <th>area_worst</th>\n",
       "      <th>smoothness_worst</th>\n",
       "      <th>compactness_worst</th>\n",
       "      <th>concavity_worst</th>\n",
       "      <th>concave points_worst</th>\n",
       "      <th>symmetry_worst</th>\n",
       "      <th>fractal_dimension_worst</th>\n",
       "    </tr>\n",
       "  </thead>\n",
       "  <tbody>\n",
       "    <tr>\n",
       "      <th>count</th>\n",
       "      <td>5.690000e+02</td>\n",
       "      <td>569.000000</td>\n",
       "      <td>569.000000</td>\n",
       "      <td>569.000000</td>\n",
       "      <td>569.000000</td>\n",
       "      <td>569.000000</td>\n",
       "      <td>569.000000</td>\n",
       "      <td>569.000000</td>\n",
       "      <td>569.000000</td>\n",
       "      <td>569.000000</td>\n",
       "      <td>...</td>\n",
       "      <td>569.000000</td>\n",
       "      <td>569.000000</td>\n",
       "      <td>569.000000</td>\n",
       "      <td>569.000000</td>\n",
       "      <td>569.000000</td>\n",
       "      <td>569.000000</td>\n",
       "      <td>569.000000</td>\n",
       "      <td>569.000000</td>\n",
       "      <td>569.000000</td>\n",
       "      <td>569.000000</td>\n",
       "    </tr>\n",
       "    <tr>\n",
       "      <th>mean</th>\n",
       "      <td>3.037183e+07</td>\n",
       "      <td>0.372583</td>\n",
       "      <td>14.127292</td>\n",
       "      <td>19.289649</td>\n",
       "      <td>91.969033</td>\n",
       "      <td>654.889104</td>\n",
       "      <td>0.096360</td>\n",
       "      <td>0.104341</td>\n",
       "      <td>0.088799</td>\n",
       "      <td>0.048919</td>\n",
       "      <td>...</td>\n",
       "      <td>16.269190</td>\n",
       "      <td>25.677223</td>\n",
       "      <td>107.261213</td>\n",
       "      <td>880.583128</td>\n",
       "      <td>0.132369</td>\n",
       "      <td>0.254265</td>\n",
       "      <td>0.272188</td>\n",
       "      <td>0.114606</td>\n",
       "      <td>0.290076</td>\n",
       "      <td>0.083946</td>\n",
       "    </tr>\n",
       "    <tr>\n",
       "      <th>std</th>\n",
       "      <td>1.250206e+08</td>\n",
       "      <td>0.483918</td>\n",
       "      <td>3.524049</td>\n",
       "      <td>4.301036</td>\n",
       "      <td>24.298981</td>\n",
       "      <td>351.914129</td>\n",
       "      <td>0.014064</td>\n",
       "      <td>0.052813</td>\n",
       "      <td>0.079720</td>\n",
       "      <td>0.038803</td>\n",
       "      <td>...</td>\n",
       "      <td>4.833242</td>\n",
       "      <td>6.146258</td>\n",
       "      <td>33.602542</td>\n",
       "      <td>569.356993</td>\n",
       "      <td>0.022832</td>\n",
       "      <td>0.157336</td>\n",
       "      <td>0.208624</td>\n",
       "      <td>0.065732</td>\n",
       "      <td>0.061867</td>\n",
       "      <td>0.018061</td>\n",
       "    </tr>\n",
       "    <tr>\n",
       "      <th>min</th>\n",
       "      <td>8.670000e+03</td>\n",
       "      <td>0.000000</td>\n",
       "      <td>6.981000</td>\n",
       "      <td>9.710000</td>\n",
       "      <td>43.790000</td>\n",
       "      <td>143.500000</td>\n",
       "      <td>0.052630</td>\n",
       "      <td>0.019380</td>\n",
       "      <td>0.000000</td>\n",
       "      <td>0.000000</td>\n",
       "      <td>...</td>\n",
       "      <td>7.930000</td>\n",
       "      <td>12.020000</td>\n",
       "      <td>50.410000</td>\n",
       "      <td>185.200000</td>\n",
       "      <td>0.071170</td>\n",
       "      <td>0.027290</td>\n",
       "      <td>0.000000</td>\n",
       "      <td>0.000000</td>\n",
       "      <td>0.156500</td>\n",
       "      <td>0.055040</td>\n",
       "    </tr>\n",
       "    <tr>\n",
       "      <th>25%</th>\n",
       "      <td>8.692180e+05</td>\n",
       "      <td>0.000000</td>\n",
       "      <td>11.700000</td>\n",
       "      <td>16.170000</td>\n",
       "      <td>75.170000</td>\n",
       "      <td>420.300000</td>\n",
       "      <td>0.086370</td>\n",
       "      <td>0.064920</td>\n",
       "      <td>0.029560</td>\n",
       "      <td>0.020310</td>\n",
       "      <td>...</td>\n",
       "      <td>13.010000</td>\n",
       "      <td>21.080000</td>\n",
       "      <td>84.110000</td>\n",
       "      <td>515.300000</td>\n",
       "      <td>0.116600</td>\n",
       "      <td>0.147200</td>\n",
       "      <td>0.114500</td>\n",
       "      <td>0.064930</td>\n",
       "      <td>0.250400</td>\n",
       "      <td>0.071460</td>\n",
       "    </tr>\n",
       "    <tr>\n",
       "      <th>50%</th>\n",
       "      <td>9.060240e+05</td>\n",
       "      <td>0.000000</td>\n",
       "      <td>13.370000</td>\n",
       "      <td>18.840000</td>\n",
       "      <td>86.240000</td>\n",
       "      <td>551.100000</td>\n",
       "      <td>0.095870</td>\n",
       "      <td>0.092630</td>\n",
       "      <td>0.061540</td>\n",
       "      <td>0.033500</td>\n",
       "      <td>...</td>\n",
       "      <td>14.970000</td>\n",
       "      <td>25.410000</td>\n",
       "      <td>97.660000</td>\n",
       "      <td>686.500000</td>\n",
       "      <td>0.131300</td>\n",
       "      <td>0.211900</td>\n",
       "      <td>0.226700</td>\n",
       "      <td>0.099930</td>\n",
       "      <td>0.282200</td>\n",
       "      <td>0.080040</td>\n",
       "    </tr>\n",
       "    <tr>\n",
       "      <th>75%</th>\n",
       "      <td>8.813129e+06</td>\n",
       "      <td>1.000000</td>\n",
       "      <td>15.780000</td>\n",
       "      <td>21.800000</td>\n",
       "      <td>104.100000</td>\n",
       "      <td>782.700000</td>\n",
       "      <td>0.105300</td>\n",
       "      <td>0.130400</td>\n",
       "      <td>0.130700</td>\n",
       "      <td>0.074000</td>\n",
       "      <td>...</td>\n",
       "      <td>18.790000</td>\n",
       "      <td>29.720000</td>\n",
       "      <td>125.400000</td>\n",
       "      <td>1084.000000</td>\n",
       "      <td>0.146000</td>\n",
       "      <td>0.339100</td>\n",
       "      <td>0.382900</td>\n",
       "      <td>0.161400</td>\n",
       "      <td>0.317900</td>\n",
       "      <td>0.092080</td>\n",
       "    </tr>\n",
       "    <tr>\n",
       "      <th>max</th>\n",
       "      <td>9.113205e+08</td>\n",
       "      <td>1.000000</td>\n",
       "      <td>28.110000</td>\n",
       "      <td>39.280000</td>\n",
       "      <td>188.500000</td>\n",
       "      <td>2501.000000</td>\n",
       "      <td>0.163400</td>\n",
       "      <td>0.345400</td>\n",
       "      <td>0.426800</td>\n",
       "      <td>0.201200</td>\n",
       "      <td>...</td>\n",
       "      <td>36.040000</td>\n",
       "      <td>49.540000</td>\n",
       "      <td>251.200000</td>\n",
       "      <td>4254.000000</td>\n",
       "      <td>0.222600</td>\n",
       "      <td>1.058000</td>\n",
       "      <td>1.252000</td>\n",
       "      <td>0.291000</td>\n",
       "      <td>0.663800</td>\n",
       "      <td>0.207500</td>\n",
       "    </tr>\n",
       "  </tbody>\n",
       "</table>\n",
       "<p>8 rows × 32 columns</p>\n",
       "</div>"
      ],
      "text/plain": [
       "                 id   diagnosis  radius_mean  texture_mean  perimeter_mean  \\\n",
       "count  5.690000e+02  569.000000   569.000000    569.000000      569.000000   \n",
       "mean   3.037183e+07    0.372583    14.127292     19.289649       91.969033   \n",
       "std    1.250206e+08    0.483918     3.524049      4.301036       24.298981   \n",
       "min    8.670000e+03    0.000000     6.981000      9.710000       43.790000   \n",
       "25%    8.692180e+05    0.000000    11.700000     16.170000       75.170000   \n",
       "50%    9.060240e+05    0.000000    13.370000     18.840000       86.240000   \n",
       "75%    8.813129e+06    1.000000    15.780000     21.800000      104.100000   \n",
       "max    9.113205e+08    1.000000    28.110000     39.280000      188.500000   \n",
       "\n",
       "         area_mean  smoothness_mean  compactness_mean  concavity_mean  \\\n",
       "count   569.000000       569.000000        569.000000      569.000000   \n",
       "mean    654.889104         0.096360          0.104341        0.088799   \n",
       "std     351.914129         0.014064          0.052813        0.079720   \n",
       "min     143.500000         0.052630          0.019380        0.000000   \n",
       "25%     420.300000         0.086370          0.064920        0.029560   \n",
       "50%     551.100000         0.095870          0.092630        0.061540   \n",
       "75%     782.700000         0.105300          0.130400        0.130700   \n",
       "max    2501.000000         0.163400          0.345400        0.426800   \n",
       "\n",
       "       concave points_mean           ...             radius_worst  \\\n",
       "count           569.000000           ...               569.000000   \n",
       "mean              0.048919           ...                16.269190   \n",
       "std               0.038803           ...                 4.833242   \n",
       "min               0.000000           ...                 7.930000   \n",
       "25%               0.020310           ...                13.010000   \n",
       "50%               0.033500           ...                14.970000   \n",
       "75%               0.074000           ...                18.790000   \n",
       "max               0.201200           ...                36.040000   \n",
       "\n",
       "       texture_worst  perimeter_worst   area_worst  smoothness_worst  \\\n",
       "count     569.000000       569.000000   569.000000        569.000000   \n",
       "mean       25.677223       107.261213   880.583128          0.132369   \n",
       "std         6.146258        33.602542   569.356993          0.022832   \n",
       "min        12.020000        50.410000   185.200000          0.071170   \n",
       "25%        21.080000        84.110000   515.300000          0.116600   \n",
       "50%        25.410000        97.660000   686.500000          0.131300   \n",
       "75%        29.720000       125.400000  1084.000000          0.146000   \n",
       "max        49.540000       251.200000  4254.000000          0.222600   \n",
       "\n",
       "       compactness_worst  concavity_worst  concave points_worst  \\\n",
       "count         569.000000       569.000000            569.000000   \n",
       "mean            0.254265         0.272188              0.114606   \n",
       "std             0.157336         0.208624              0.065732   \n",
       "min             0.027290         0.000000              0.000000   \n",
       "25%             0.147200         0.114500              0.064930   \n",
       "50%             0.211900         0.226700              0.099930   \n",
       "75%             0.339100         0.382900              0.161400   \n",
       "max             1.058000         1.252000              0.291000   \n",
       "\n",
       "       symmetry_worst  fractal_dimension_worst  \n",
       "count      569.000000               569.000000  \n",
       "mean         0.290076                 0.083946  \n",
       "std          0.061867                 0.018061  \n",
       "min          0.156500                 0.055040  \n",
       "25%          0.250400                 0.071460  \n",
       "50%          0.282200                 0.080040  \n",
       "75%          0.317900                 0.092080  \n",
       "max          0.663800                 0.207500  \n",
       "\n",
       "[8 rows x 32 columns]"
      ]
     },
     "execution_count": 4,
     "metadata": {},
     "output_type": "execute_result"
    }
   ],
   "source": [
    "from sklearn.preprocessing import LabelEncoder\n",
    "\n",
    "# checking for missing values\n",
    "df.isnull().any()\n",
    "\n",
    "# dropping Unnamed column\n",
    "#df2 = df.drop(['Unnamed: 32'], axis=1)\n",
    "\n",
    "# converting diagnosis M/B to numerical\n",
    "lenc = LabelEncoder()\n",
    "lenc.fit(df['diagnosis'])\n",
    "df['diagnosis'] = lenc.transform(df['diagnosis'])\n",
    "\n",
    "# overview of data sample\n",
    "df.describe()"
   ]
  },
  {
   "cell_type": "markdown",
   "metadata": {
    "deletable": true,
    "editable": true
   },
   "source": [
    "### 1.6 Create train and test sets<a class=\"anchor\" id=\"bullet-7\"></a>\n",
    "\n",
    "Take 80% of the total data to train the model, and reserve 20% of it for testing. After the model is built and tuned upon the training set, you can use the testing set to observe how well the model is able to generalize to new 'unseen' data."
   ]
  },
  {
   "cell_type": "code",
   "execution_count": 5,
   "metadata": {
    "collapsed": false,
    "deletable": true,
    "editable": true,
    "jupyter": {
     "outputs_hidden": false
    },
    "scrolled": true
   },
   "outputs": [
    {
     "name": "stderr",
     "output_type": "stream",
     "text": [
      "/opt/conda/lib/python3.5/site-packages/ipykernel/__main__.py:5: DeprecationWarning: \n",
      ".ix is deprecated. Please use\n",
      ".loc for label based indexing or\n",
      ".iloc for positional indexing\n",
      "\n",
      "See the documentation here:\n",
      "http://pandas.pydata.org/pandas-docs/stable/indexing.html#deprecate_ix\n"
     ]
    }
   ],
   "source": [
    "from sklearn.model_selection import train_test_split\n",
    "\n",
    "## X are all the features (columns) that might be useful to the model\n",
    "## y is the target (diagnosis column)\n",
    "X, y = df.ix[:,'radius_mean':], df[['diagnosis']]\n",
    "X_train, X_test, y_train, y_test = train_test_split(X, y, test_size=0.2, random_state=0, stratify=y)"
   ]
  },
  {
   "cell_type": "markdown",
   "metadata": {
    "deletable": true,
    "editable": true
   },
   "source": [
    "## 2.0 Basic model: decision trees<a class=\"anchor\" id=\"bullet-8\"></a>\n",
    "\n",
    "2.1 [Mimicking human decision-making](#bullet-9)<br/>\n",
    "    2.2 [Interpreting a tree graphic](#bullet-10)<br/>\n",
    "    2.3 [How a decision tree learns](#bullet-11)<br/>\n",
    "    2.3 [Evaluating the model](#bullet-12)<br/>\n",
    "\n",
    "### 2.1 Mimicking human decision-making<a class=\"anchor\" id=\"bullet-9\"></a>\n",
    "\n",
    "A decision tree is an algorithm that can be used for machine learning. It is analogous to the game <a href=\"http://www.wikihow.com/Play-20-Questions\" target=\"_blank\" rel=\"noopener noreferrer\">20 questions</a> - each 'question' is a **splitting feature** chosen from the data based on how useful it is for identifying the target. The algorithm decides on these features by optimizing a variety of mathematical functions that quantify prediction error (<a href=\"https://en.wikipedia.org/wiki/Decision_tree_learning#Metrics\" target=\"_blank\" rel=\"noopener noreferrer\">for the curious</a>).\n",
    "\n",
    "Trees are considered weak learners, because their predictions are usually only slightly better than chance. The following code builds a tree based on the tumor data, and displays the process graphically.\n",
    "\n",
    "If you don't have pydotplus library installed, install it."
   ]
  },
  {
   "cell_type": "code",
   "execution_count": 7,
   "metadata": {
    "collapsed": false,
    "deletable": true,
    "editable": true,
    "jupyter": {
     "outputs_hidden": false
    }
   },
   "outputs": [
    {
     "name": "stdout",
     "output_type": "stream",
     "text": [
      "Fetching package metadata .........\n",
      "Solving package specifications: ..........\n",
      "Warning: 2 possible package resolutions (only showing differing packages):\n",
      "  - conda-forge::icu-58.2-0.tar.bz2\n",
      "  - conda-forge::icu-58.2-hfc679d8_0.tar.bz2\n",
      "\n",
      "Package plan for installation in environment /opt/conda3:\n",
      "\n",
      "The following packages will be downloaded:\n",
      "\n",
      "    package                    |            build\n",
      "    ---------------------------|-----------------\n",
      "    icu-58.2                   |                0        22.7 MB  conda-forge\n",
      "    libstdcxx-ng-7.2.0         |       hdf63c60_3         2.5 MB  conda-forge\n",
      "    expat-2.2.5                |       hfc679d8_2         144 KB  conda-forge\n",
      "    gettext-0.19.8.1           |       h5e8e0c9_1         3.5 MB  conda-forge\n",
      "    graphite2-1.3.12           |       hfc679d8_1         104 KB  conda-forge\n",
      "    jpeg-9c                    |       h470a237_1         229 KB  conda-forge\n",
      "    libiconv-1.15              |       h470a237_3         2.0 MB  conda-forge\n",
      "    libpng-1.6.35              |       ha92aebf_2         305 KB  conda-forge\n",
      "    libtool-2.4.6              |       h470a237_2         517 KB  conda-forge\n",
      "    libuuid-2.32.1             |       h470a237_2          24 KB  conda-forge\n",
      "    pcre-8.41                  |       hfc679d8_3         243 KB  conda-forge\n",
      "    pixman-0.34.0              |       h470a237_3         1.2 MB  conda-forge\n",
      "    xorg-kbproto-1.0.7         |       h470a237_2          25 KB  conda-forge\n",
      "    xorg-libice-1.0.9          |       h470a237_4          55 KB  conda-forge\n",
      "    xorg-renderproto-0.11.1    |       h470a237_2           8 KB  conda-forge\n",
      "    xorg-xextproto-7.3.0       |       h470a237_2          26 KB  conda-forge\n",
      "    xorg-xproto-7.0.31         |       h470a237_7          72 KB  conda-forge\n",
      "    freetype-2.9.1             |       h6debe1e_4         800 KB  conda-forge\n",
      "    glib-2.56.2                |       h464dc38_0         4.9 MB  conda-forge\n",
      "    libtiff-4.0.9              |       he6b73bb_1         521 KB  conda-forge\n",
      "    libxml2-2.9.8              |       h422b904_2         1.8 MB  conda-forge\n",
      "    xorg-libsm-1.2.2           |       h8c8a85c_6          24 KB  conda-forge\n",
      "    xorg-libx11-1.6.6          |       h470a237_0         890 KB  conda-forge\n",
      "    fontconfig-2.13.1          |       h65d0f4c_0         320 KB  conda-forge\n",
      "    xorg-libxext-1.3.3         |       h470a237_4          45 KB  conda-forge\n",
      "    xorg-libxrender-0.9.10     |       h470a237_2          28 KB  conda-forge\n",
      "    xorg-libxt-1.1.5           |       h470a237_2         352 KB  conda-forge\n",
      "    cairo-1.14.12              |       h276e583_5         1.3 MB  conda-forge\n",
      "    xorg-libxpm-3.5.12         |       h470a237_2          56 KB  conda-forge\n",
      "    harfbuzz-1.9.0             |       hee26f79_1         1.1 MB  conda-forge\n",
      "    pango-1.40.14              |       he752989_2         527 KB  conda-forge\n",
      "    graphviz-2.38.0            |       h08bfae6_9         9.7 MB  conda-forge\n",
      "    ------------------------------------------------------------\n",
      "                                           Total:        56.0 MB\n",
      "\n",
      "The following NEW packages will be INSTALLED:\n",
      "\n",
      "    gettext:          0.19.8.1-h5e8e0c9_1 conda-forge\n",
      "    graphite2:        1.3.12-hfc679d8_1   conda-forge\n",
      "    graphviz:         2.38.0-h08bfae6_9   conda-forge\n",
      "    libiconv:         1.15-h470a237_3     conda-forge\n",
      "    libstdcxx-ng:     7.2.0-hdf63c60_3    conda-forge\n",
      "    libtool:          2.4.6-h470a237_2    conda-forge\n",
      "    libuuid:          2.32.1-h470a237_2   conda-forge\n",
      "    pango:            1.40.14-he752989_2  conda-forge\n",
      "    pcre:             8.41-hfc679d8_3     conda-forge\n",
      "    xorg-kbproto:     1.0.7-h470a237_2    conda-forge\n",
      "    xorg-libice:      1.0.9-h470a237_4    conda-forge\n",
      "    xorg-libsm:       1.2.2-h8c8a85c_6    conda-forge\n",
      "    xorg-libx11:      1.6.6-h470a237_0    conda-forge\n",
      "    xorg-libxext:     1.3.3-h470a237_4    conda-forge\n",
      "    xorg-libxpm:      3.5.12-h470a237_2   conda-forge\n",
      "    xorg-libxrender:  0.9.10-h470a237_2   conda-forge\n",
      "    xorg-libxt:       1.1.5-h470a237_2    conda-forge\n",
      "    xorg-renderproto: 0.11.1-h470a237_2   conda-forge\n",
      "    xorg-xextproto:   7.3.0-h470a237_2    conda-forge\n",
      "    xorg-xproto:      7.0.31-h470a237_7   conda-forge\n",
      "\n",
      "The following packages will be UPDATED:\n",
      "\n",
      "    cairo:            1.12.18-6                       --> 1.14.12-h276e583_5 conda-forge\n",
      "    expat:            2.1.0-0                         --> 2.2.5-hfc679d8_2   conda-forge\n",
      "    fontconfig:       2.11.1-6                        --> 2.13.1-h65d0f4c_0  conda-forge\n",
      "    freetype:         2.5.5-1                         --> 2.9.1-h6debe1e_4   conda-forge\n",
      "    glib:             2.43.0-1                        --> 2.56.2-h464dc38_0  conda-forge\n",
      "    harfbuzz:         0.9.39-1                        --> 1.9.0-hee26f79_1   conda-forge\n",
      "    icu:              54.1-0                          --> 58.2-0             conda-forge\n",
      "    jpeg:             8d-2                            --> 9c-h470a237_1      conda-forge\n",
      "    libpng:           1.6.22-0                        --> 1.6.35-ha92aebf_2  conda-forge\n",
      "    libtiff:          4.0.6-2                         --> 4.0.9-he6b73bb_1   conda-forge\n",
      "    libxml2:          2.9.2-0                         --> 2.9.8-h422b904_2   conda-forge\n",
      "    pixman:           0.32.6-0                        --> 0.34.0-h470a237_3  conda-forge\n",
      "\n",
      "Fetching packages ...\n",
      "icu-58.2-0.tar 100% |################################| Time: 0:00:00  29.60 MB/s\n",
      "libstdcxx-ng-7 100% |################################| Time: 0:00:00  10.57 MB/sime: 0:00:00   5.99 MB/sime: 0:00:00  10.05 MB/s\n",
      "expat-2.2.5-hf 100% |################################| Time: 0:00:00   1.48 MB/s\n",
      "gettext-0.19.8 100% |################################| Time: 0:00:00  12.72 MB/s\n",
      "graphite2-1.3. 100% |################################| Time: 0:00:00   1.15 MB/s\n",
      "jpeg-9c-h470a2 100% |################################| Time: 0:00:00   1.49 MB/s\n",
      "libiconv-1.15- 100% |################################| Time: 0:00:00   8.16 MB/sime: 0:00:00   6.59 MB/s\n",
      "libpng-1.6.35- 100% |################################| Time: 0:00:00   2.37 MB/s\n",
      "libtool-2.4.6- 100% |################################| Time: 0:00:00   3.34 MB/s\n",
      "libuuid-2.32.1 100% |################################| Time: 0:00:00 742.63 kB/s\n",
      "pcre-8.41-hfc6 100% |################################| Time: 0:00:00   1.98 MB/s\n",
      "pixman-0.34.0- 100% |################################| Time: 0:00:00   5.66 MB/s\n",
      "xorg-kbproto-1 100% |################################| Time: 0:00:00 834.37 kB/s\n",
      "xorg-libice-1. 100% |################################| Time: 0:00:00 930.48 kB/s\n",
      "xorg-renderpro 100% |################################| Time: 0:00:00   8.51 MB/s\n",
      "xorg-xextproto 100% |################################| Time: 0:00:00 918.72 kB/s\n",
      "xorg-xproto-7. 100% |################################| Time: 0:00:00   1.20 MB/s\n",
      "freetype-2.9.1 100% |################################| Time: 0:00:00   4.17 MB/s\n",
      "glib-2.56.2-h4 100% |################################| Time: 0:00:00  14.29 MB/sime: 0:00:00   5.18 MB/sime: 0:00:00   8.99 MB/s\n",
      "libtiff-4.0.9- 100% |################################| Time: 0:00:00   3.48 MB/s\n",
      "libxml2-2.9.8- 100% |################################| Time: 0:00:00   7.77 MB/s\n",
      "xorg-libsm-1.2 100% |################################| Time: 0:00:00 821.28 kB/s\n",
      "xorg-libx11-1. 100% |################################| Time: 0:00:00   4.94 MB/s\n",
      "fontconfig-2.1 100% |################################| Time: 0:00:00   2.68 MB/s\n",
      "xorg-libxext-1 100% |################################| Time: 0:00:00 722.28 kB/s\n",
      "xorg-libxrende 100% |################################| Time: 0:00:00 889.10 kB/s\n",
      "xorg-libxt-1.1 100% |################################| Time: 0:00:00   2.46 MB/s\n",
      "cairo-1.14.12- 100% |################################| Time: 0:00:00   6.96 MB/s\n",
      "xorg-libxpm-3. 100% |################################| Time: 0:00:00 885.64 kB/s\n",
      "harfbuzz-1.9.0 100% |################################| Time: 0:00:00   5.31 MB/s\n",
      "pango-1.40.14- 100% |################################| Time: 0:00:00   3.62 MB/s\n",
      "graphviz-2.38. 100% |################################| Time: 0:00:00  24.25 MB/sime: 0:00:00  10.73 MB/s####                  | Time: 0:00:00  15.91 MB/sime: 0:00:00  20.14 MB/sime: 0:00:00  23.30 MB/s\n",
      "Extracting packages ...\n",
      "[      COMPLETE      ]|###################################################| 100%\n",
      "Unlinking packages ...\n",
      "[      COMPLETE      ]|###################################################| 100%\n",
      "Linking packages ...\n",
      "CondaOSError: OS error: failed to link (src='/opt/conda3/pkgs/icu-58.2-0/lib/icu/current', dst='/opt/conda3/lib/icu/current', type=3, error=FileExistsError(17, 'File exists'))\n",
      "\n",
      "\n",
      "Requirement already satisfied: graphviz in /user-home/1002/.local/lib/python3.5/site-packages (0.9)\n",
      "\u001b[33mYou are using pip version 18.0, however version 18.1 is available.\n",
      "You should consider upgrading via the 'pip install --upgrade pip' command.\u001b[0m\n",
      "Requirement already satisfied: pydotplus in /opt/conda3/lib/python3.5/site-packages (2.0.2)\n",
      "Requirement already satisfied: pyparsing>=2.0.1 in /opt/conda3/lib/python3.5/site-packages (from pydotplus) (2.1.4)\n",
      "\u001b[33mYou are using pip version 18.0, however version 18.1 is available.\n",
      "You should consider upgrading via the 'pip install --upgrade pip' command.\u001b[0m\n"
     ]
    }
   ],
   "source": [
    "!conda install -y graphviz\n",
    "!pip install graphviz\n",
    "!pip install pydotplus"
   ]
  },
  {
   "cell_type": "code",
   "execution_count": null,
   "metadata": {
    "collapsed": false,
    "deletable": true,
    "editable": true,
    "jupyter": {
     "outputs_hidden": false
    }
   },
   "outputs": [],
   "source": [
    "from sklearn import tree\n",
    "import pydotplus\n",
    "from IPython.display import Image \n",
    "\n",
    "# list of features we want to consider\n",
    "splitting_features = [x for x in X_train.columns if x not in ['id']]\n",
    "\n",
    "# initializing the tree model and training it\n",
    "tree_model = tree.DecisionTreeClassifier()\n",
    "tree_model = tree_model.fit(X_train, y_train)\n",
    "\n",
    "# generating a graphic for the tree\n",
    "dot_data = tree.export_graphviz(tree_model, out_file=None, \n",
    "                         feature_names=splitting_features,\n",
    "                         class_names = ['Benign', 'Malignant'],\n",
    "                         filled=True, rounded=True,  \n",
    "                         special_characters=True)  \n",
    "graph = pydotplus.graph_from_dot_data(dot_data)  \n",
    "Image(graph.create_png())"
   ]
  },
  {
   "cell_type": "markdown",
   "metadata": {
    "deletable": true,
    "editable": true
   },
   "source": [
    "### 2.2 Interpreting a tree graphic<a class=\"anchor\" id=\"bullet-10\"></a>\n",
    "Each rectangle represents a **node** of the tree.\n",
    "* The first line in each node identifies the splitting feature and decision being made upon it.\n",
    "* The observations are separated based on this decision into **children** nodes (left and right).\n",
    "* **Samples**: how many observations have been filtered by that decision.\n",
    "* **Value**: where how many observations are being split into the left and right children respectively.\n",
    "* **Gini**: a measurement of incorrect classification. As the algorithm learns, the gini inequality decreases to 0.\n",
    "* **Class**: the target that the observations have been grouped into: benign or malignant.\n",
    "* The rectangles at the bottom of the diagram are called **leaves**, which contain the final predictions (observations classified by diagnosis).\n",
    "\n",
    "### 2.3 How a decision tree learns<a class=\"anchor\" id=\"bullet-11\"></a>\n",
    "\n",
    "Applying the general learning outline ([section 1.3](#bullet-4)) to a decision tree:\n",
    "\n",
    "*1. Initialize the algorithm to produce a default model, and give it the feature data. The algorithm makes its first set of predictions (close to a random guess).*<br/>\n",
    "The default model is the very first splitting feature - the algorithm chose 'concave points mean <= 0.0492'. The observations are divided into benign or malignant based on this decision, making up the first set of predictions!\n",
    "\n",
    "*2. The algorithm measures the error between its previous prediction and the true value of the targets.*<br/> \n",
    "This error is quantified by the gini value that appears in the first node of the tree.\n",
    "\n",
    "*3. The algorithm adjusts its model-building to make the error smaller. Each adjustment represents a part of the pattern it is learning, and is used to process future data.*<br/>\n",
    "The adjustment is the next splitting feature that is chosen for each subgroup that resulted from the concave points mean decision. The algorithm chose 'radius worst' for observations that had a concave points mean less than the threshold, and 'concavity worst' for observations with concave points mean greater than the threshold.\n",
    "\n",
    "*4. It continues to predict, calculate error, and adjust.*<br/>\n",
    "The next set of predictions are the classifications that result from the second round of decision making. Each time, a gini value is calculated to indicate how far the classifications are from the true targets, and another set of splitting features are chosen to further refine the class groupings. \n",
    "\n",
    "### 2.4 Evaluating the model<a class=\"anchor\" id=\"bullet-12\"></a>\n",
    "Pick a metric to measure predictive accuracy or performance of your model, so that you can compare different models. \n",
    "\n",
    "Models can differ in two ways:\n",
    "\n",
    "1. The algorithm used for learning (for example, the difference between a decision tree and gradient boosting)\n",
    "2. The **parameter** selection within a single algorithm (for example, a model with a learning rate set to 0.1 or 0.0)\n",
    "\n",
    "This case refers to (1), you want to know how the tree model performs, so that it can be compared to the gradient boosting model in the next section.\n",
    "\n",
    "The choice of evaluation metric depends on the type of learning problem. For binary classification, you can use a metric called the <a href=\"https://www.quora.com/Machine-Learning-What-is-an-intuitive-explanation-of-AUC\" target=\"_blank\" rel=\"noopener noreferrer\">AUC score</a>, which measures the probability that the model correctly identifies *malignant tumors only*. This metric is used as an indication of performance because misclassifying a malignant tumor as benign is the worst prediction scenario (compared to correct classification of benign/malignant and misclassification of benign).\n",
    "\n",
    "You also calculate the general accuracy of the model - the percentage of observations that have been correctly classified overall. The following code uses your simple tree model to predict on the testing set, and evaluates the accuracy and AUC score of its predictions:"
   ]
  },
  {
   "cell_type": "code",
   "execution_count": 9,
   "metadata": {
    "collapsed": false,
    "deletable": true,
    "editable": true,
    "jupyter": {
     "outputs_hidden": false
    }
   },
   "outputs": [
    {
     "name": "stdout",
     "output_type": "stream",
     "text": [
      "Accuracy : 0.9211\n",
      "AUC Score: 0.927579\n"
     ]
    }
   ],
   "source": [
    "from sklearn import metrics\n",
    "\n",
    "#Predict test set:\n",
    "test_predictions = tree_model.predict(X_test[splitting_features])\n",
    "test_predprob = tree_model.predict_proba(X_test[splitting_features])[:,1]\n",
    "        \n",
    "#Print model report:\n",
    "print(\"Accuracy : %.4g\" % metrics.accuracy_score(y_test['diagnosis'].values, test_predictions))\n",
    "print(\"AUC Score: %f\" % metrics.roc_auc_score(y_test['diagnosis'], test_predprob))"
   ]
  },
  {
   "cell_type": "markdown",
   "metadata": {
    "deletable": true,
    "editable": true
   },
   "source": [
    "The model gives ~92% accuracy for all cases, and a ~93% probability of catching malignant cases in the data. Each time the code is run, the algorithm may learn slightly differently (that is, select different splitting features), which results in slight variations in accuracy and AUC scores. In the following section, you work on improving the model by stacking together many trees, and tuning parameters for better generalization ability."
   ]
  },
  {
   "cell_type": "markdown",
   "metadata": {
    "deletable": true,
    "editable": true
   },
   "source": [
    "## 3.0 Ensemble model: gradient tree boosting<a class=\"anchor\" id=\"bullet-13\"></a>\n",
    "\n",
    "Stacking, or meta-ensembling, is a method of joining multiple predictive models so that the strengths of each can cover the weaknesses of others. Gradient boosting is one technique used to stack weak learners together in an **ensemble** to achieve better predictions with each additional model.\n",
    "\n",
    "3.1 [An intuitive explanation](#bullet-14)<br/>\n",
    "    3.2 [XGBoost](#bullet-15)<br/>\n",
    "    3.3 [K-fold cross validation](#bullet-16)<br/>\n",
    "\n",
    "### 3.1 An intuitive explanation of gradient boosting<a class=\"anchor\" id=\"bullet-14\"></a>\n",
    "\n",
    "1. A tree is used to learn from the data as described in [section 2.2](#bullet-10). This first model is called the **base learner**.\n",
    "2. The algorithm calculates the error of the base learner's final predictions. These error measurements are called **pseudo-residuals**. \n",
    "3. A second decision tree, called the **booster**, is stacked on top of the base tree by using the pseudo-residuals as input. Its output is a prediction of error for each prediction of the base tree. \n",
    "4. The algorithm adjusts the base prediction by adding the predicted amount of error.\n",
    "*Note: target - prediction = error, so by adding 'predicted error' to the base prediction, you are getting closer to the target.*\n",
    "5. Another set of pseudo-residuals are calculated for the predictions of the updated model (base tree + first boosting tree). Each round of boosting corrects the base prediction by a predicted amount of error, gradually inching towards the true value.\n",
    "\n",
    "\n",
    "### 3.2 XGBoost<a class=\"anchor\" id=\"bullet-15\"></a>\n",
    "\n",
    "You use the XGBoost library, an implementation of gradient tree boosting popularized by usage in machine learning competitions. It is a valuable addition to any machine learning toolkit, as it significantly outperforms other algorithms in speed, accuracy, and flexibility. \n",
    "\n",
    "If you don't have xgboost library installed, install it."
   ]
  },
  {
   "cell_type": "code",
   "execution_count": 10,
   "metadata": {
    "collapsed": false,
    "deletable": true,
    "editable": true,
    "jupyter": {
     "outputs_hidden": false
    }
   },
   "outputs": [
    {
     "name": "stdout",
     "output_type": "stream",
     "text": [
      "Requirement already satisfied: xgboost in /opt/conda3/lib/python3.5/site-packages (0.72.1)\n",
      "Requirement already satisfied: scipy in /opt/conda3/lib/python3.5/site-packages (from xgboost) (1.1.0)\n",
      "Requirement already satisfied: numpy in /opt/conda3/lib/python3.5/site-packages (from xgboost) (1.14.5)\n",
      "\u001b[33mYou are using pip version 18.0, however version 18.1 is available.\n",
      "You should consider upgrading via the 'pip install --upgrade pip' command.\u001b[0m\n"
     ]
    }
   ],
   "source": [
    "!pip install xgboost"
   ]
  },
  {
   "cell_type": "markdown",
   "metadata": {
    "deletable": true,
    "editable": true
   },
   "source": [
    "**Note:** The xgboost package uses an older version of sklearn. When you run import xgboost, ignore the DeprecationWarning. "
   ]
  },
  {
   "cell_type": "code",
   "execution_count": 11,
   "metadata": {
    "collapsed": false,
    "deletable": true,
    "editable": true,
    "jupyter": {
     "outputs_hidden": false
    }
   },
   "outputs": [],
   "source": [
    "import xgboost as xgb\n",
    "from xgboost.sklearn import XGBClassifier"
   ]
  },
  {
   "cell_type": "markdown",
   "metadata": {
    "deletable": true,
    "editable": true
   },
   "source": [
    "### 3.3 K-fold cross validation<a class=\"anchor\" id=\"bullet-16\"></a>\n",
    "\n",
    "Cross-validation is used to measure how well a model generalizes using the training set (no need to bring in the testing set yet!). The k-fold method divides the training data into even smaller train/test sets to gauge how the model performs on 'unseen' data.\n",
    "\n",
    "1. The data is divided into k subsamples. You use 5 subsamples: you can call them A, B, C, D, E.\n",
    "2. The model is trained on 4 subsamples (for example, A, B, C, D).\n",
    "3. The model makes predictions on the subsample that was held out from training (E), and you score it based on an evaluation metric.\n",
    "4. The model is then trained on another combination of subsamples (for example, B, C, D, E), and tested on the one that was held out (A).\n",
    "5. This repeats for every possible combination of k-folds. You take the average of the evaluation metrics at each iteration to give an idea of how the model performs on actual unseen data.\n",
    "\n",
    "You use cross-validation during parameter tuning so that you can directly observe the effect of a parameter on a model's generalization ability."
   ]
  },
  {
   "cell_type": "code",
   "execution_count": 14,
   "metadata": {
    "collapsed": false,
    "deletable": true,
    "editable": true,
    "jupyter": {
     "outputs_hidden": false
    }
   },
   "outputs": [],
   "source": [
    "from sklearn.model_selection import cross_val_score"
   ]
  },
  {
   "cell_type": "markdown",
   "metadata": {
    "deletable": true,
    "editable": true
   },
   "source": [
    "## 4.0 XGBoost: Parameter tuning<a class=\"anchor\" id=\"bullet-17\"></a><a href=\"#footnote-1\"><sup>[1]</sup></a>\n",
    "\n",
    "4.1 [Default model](#bullet-18)<br/>\n",
    "    4.2 [Tuning number of estimators](#bullet-19)<br/>\n",
    "    4.3 [Evaluating default model](#bullet-20)<br/>\n",
    "    4.4 [Interpreting evaluation](#bullet-21)<br/>\n",
    "    4.5 [Grid search](#bullet-22)<br/>\n",
    "    4.6 [Tuning tree depth and min child weight](#bullet-23)<br/>\n",
    "    4.7 [Tuning gamma](#bullet-24)<br/>\n",
    "    4.8 [Evaluating updated model](#bullet-25)<br/>\n",
    "    4.9 [Tuning sampling parameters](#bullet-26)<br/>\n",
    "    4.10 [Tuning lambda & alpha](#bullet-27)<br/>\n",
    "    4.11 [Evaluating final model](#bullet-28)<br/>\n",
    "    4.12 [Predict on the test set](#bullet-29)<br/>\n",
    "\n",
    "### 4.1 Setting up a default model<a class=\"anchor\" id=\"bullet-18\"></a>\n",
    "You need to initialize a model with some default parameters as a starting point. The selection here depends on the nature of your data and your experience. Recall that parameters tell the algorithm how to learn in one of two ways: how complex the model will be, and how quickly it should conclude on a pattern in the data.\n",
    "\n",
    "Luckily, XGBoost performs well with its default values, so you only need to define the following three parameters: \n",
    "\n",
    "1. objective: Depends on the target type - use binary:logistic because you have a binary classification problem.\n",
    "2. learning rate: This parameter is always chosen first, as the optimal values of all other parameters are dependent upon it. It directly controls how conservative the model is in picking up patterns - a smaller value makes the model more conservative. A good rule of thumb is to initialize the learning rate at 0.1.  \n",
    "3. number of estimators: The maximum number of boosting trees to be added. Pick a number that is a bit larger than necessary for our data set size. \n"
   ]
  },
  {
   "cell_type": "code",
   "execution_count": 15,
   "metadata": {
    "collapsed": true,
    "deletable": true,
    "editable": true,
    "jupyter": {
     "outputs_hidden": true
    }
   },
   "outputs": [],
   "source": [
    "# initializing our first model with an objective and learning rate\n",
    "xgb0 = XGBClassifier(\n",
    " objective= 'binary:logistic',\n",
    " learning_rate = 0.1, \n",
    " n_estimators = 30)"
   ]
  },
  {
   "cell_type": "markdown",
   "metadata": {
    "deletable": true,
    "editable": true
   },
   "source": [
    "### 4.2 Tuning number of estimators<a class=\"anchor\" id=\"bullet-19\"></a>\n",
    "\n",
    "The 'number of estimators' parameter in XGBoost refers to the maximum number of boosting trees (or rounds) to be used in building the model. Intuitively, the more trees that are added to the model, the more complex it is. This parameter is tuned first, so you can broadly adjust the complexity of your model before making adjustments that have smaller impacts on conservative learning.\n",
    "\n",
    "The function below performs the following actions to find the best number of boosting trees to use on your data:\n",
    "\n",
    "1. Trains an XGBoost model using features of the data.\n",
    "2. Performs k-fold cross validation on the model, using accuracy and AUC score as the evaluation metric.\n",
    "3. Returns output for each boosting round so you can see how the model is learning. You will look at the detailed output in the next section.\n",
    "4. It stops running after the cross-validation score does not improve significantly with additional boosting rounds, giving you an optimal number of estimators for the model."
   ]
  },
  {
   "cell_type": "code",
   "execution_count": 16,
   "metadata": {
    "collapsed": true,
    "deletable": true,
    "editable": true,
    "jupyter": {
     "outputs_hidden": true
    }
   },
   "outputs": [],
   "source": [
    "import matplotlib.pylab as plt\n",
    "%matplotlib inline\n",
    "\n",
    "def evaluate_model(alg, train, target, predictors, cv_folds=5, early_stopping_rounds=1):\n",
    "    \n",
    "    xgb_param = alg.get_xgb_params()\n",
    "    xgtrain = xgb.DMatrix(train[predictors].values, target['diagnosis'].values)\n",
    "    cvresult = xgb.cv(xgb_param, xgtrain, num_boost_round=alg.get_params()['n_estimators'], nfold=cv_folds,\n",
    "        metrics='auc', early_stopping_rounds=early_stopping_rounds, verbose_eval=True)\n",
    "    alg.set_params(n_estimators=cvresult.shape[0])\n",
    "    \n",
    "    #Fit the algorithm on the data\n",
    "    alg.fit(train[predictors], target['diagnosis'], eval_metric='auc')\n",
    "        \n",
    "    #Predict training set:\n",
    "    dtrain_predictions = alg.predict(train[predictors])\n",
    "    dtrain_predprob = alg.predict_proba(train[predictors])[:,1]\n",
    "        \n",
    "    #Print model report:\n",
    "    print(\"\\nModel Report\")\n",
    "    print(\"Accuracy : %.4g\" % metrics.accuracy_score(target['diagnosis'].values, dtrain_predictions))\n",
    "    print(\"AUC Score (Train): %f\" % metrics.roc_auc_score(target['diagnosis'], dtrain_predprob))\n",
    "                    \n",
    "    feat_imp = pd.Series(alg.booster().get_fscore()).sort_values(ascending=False)\n",
    "    feat_imp.plot(kind='bar', title='Feature Importance', color='g')\n",
    "    plt.ylabel('Feature Importance Score')"
   ]
  },
  {
   "cell_type": "markdown",
   "metadata": {
    "deletable": true,
    "editable": true
   },
   "source": [
    "### 4.3 Evaluating the default model<a class=\"anchor\" id=\"bullet-20\"></a>"
   ]
  },
  {
   "cell_type": "code",
   "execution_count": null,
   "metadata": {
    "collapsed": false,
    "deletable": true,
    "editable": true,
    "jupyter": {
     "outputs_hidden": false
    }
   },
   "outputs": [],
   "source": [
    "# a list of features to be used for training the model\n",
    "features = [x for x in X_train.columns if x not in ['id']]\n",
    "\n",
    "# evaluating the first model\n",
    "evaluate_model(xgb0, X_train, y_train, features)"
   ]
  },
  {
   "cell_type": "markdown",
   "metadata": {
    "deletable": true,
    "editable": true
   },
   "source": [
    "### 4.4 Interpreting evaluation output<a class=\"anchor\" id=\"bullet-21\"></a>\n",
    "\n",
    "* The first set of readings shows you the cross-validation scores at each boosting round. So at line [0], one tree has been fit to the data. Train-auc gives you the average AUC score for the five training sets during cross-validation, and test-auc gives you the same metric for the five testing sets during cross validation. Naturally, the test score is lower, as the model is predicting on data that was not used to train it. You can see that the test-auc catches up with more boosting rounds, as more trees are used to minimize the error.\n",
    "<br/><br/>\n",
    "* The model stops training after ten rounds, which means that the cross-validation scores are not significantly improving with more than 10 rounds. For a learning rate of 0.1, you can take the number of estimators to be 10 to save computation time.\n",
    "<br/><br/>\n",
    "* Overall, the accuracy is 0.9824, which tells you how many cases were correctly classified, both benign and malignant.\n",
    "<br/><br/>\n",
    "* Overall, the AUC score is 0.99877, which indicates that the model rarely lets malignant cases slip through its screening process.\n",
    "<br/><br/>\n",
    "* The graph displays the features ranked by their importance to the model. Feature importance refers to the number of times it is used as a splitting feature in the decision trees. This function is especially useful in large datasets, where many variables are just noise and <a href=\"https://en.wikipedia.org/wiki/Feature_engineering\" target=\"_blank\" rel=\"noopener no referrer\">feature engineering</a> may be required.\n",
    "\n",
    "### 4.5 Grid search<a class=\"anchor\" id=\"bullet-22\"></a>\n",
    "To tune the remaining XGBoost parameters, use grid search with cross-validation.\n",
    "\n",
    "1. Define set of values for the parameter in question. These values of interest again depend on the nature of the data and your experience.\n",
    "2. The grid search function systematically produces a model for each unique combination of these values, and evaluates it using cross-validation.\n",
    "3. The optimal parameter values are found in the model with the highest cv score."
   ]
  },
  {
   "cell_type": "code",
   "execution_count": 15,
   "metadata": {
    "collapsed": true,
    "deletable": true,
    "editable": true,
    "jupyter": {
     "outputs_hidden": true
    }
   },
   "outputs": [],
   "source": [
    "from sklearn.model_selection import GridSearchCV"
   ]
  },
  {
   "cell_type": "markdown",
   "metadata": {
    "deletable": true,
    "editable": true
   },
   "source": [
    "### 4.6 Tuning max depth and child weight<a class=\"anchor\" id=\"bullet-23\"></a>\n",
    "\n",
    "**max depth**: The size of each new decision tree. Smaller trees = less complexity. <br/>\n",
    "**min child weight**: The minimum number of observations that must be in the children after a split. Smaller weight = more conservative."
   ]
  },
  {
   "cell_type": "code",
   "execution_count": 16,
   "metadata": {
    "collapsed": false,
    "deletable": true,
    "editable": true,
    "jupyter": {
     "outputs_hidden": false
    }
   },
   "outputs": [
    {
     "data": {
      "text/plain": [
       "([{'max_depth': 3, 'min_child_weight': 1},\n",
       "  {'max_depth': 3, 'min_child_weight': 2},\n",
       "  {'max_depth': 4, 'min_child_weight': 1},\n",
       "  {'max_depth': 4, 'min_child_weight': 2},\n",
       "  {'max_depth': 5, 'min_child_weight': 1},\n",
       "  {'max_depth': 5, 'min_child_weight': 2},\n",
       "  {'max_depth': 6, 'min_child_weight': 1},\n",
       "  {'max_depth': 6, 'min_child_weight': 2}],\n",
       " {'max_depth': 5, 'min_child_weight': 2},\n",
       " 0.98292053663570678)"
      ]
     },
     "execution_count": 16,
     "metadata": {},
     "output_type": "execute_result"
    }
   ],
   "source": [
    "# updating our default model with the optimal number of estimators\n",
    "xgb1 = XGBClassifier(\n",
    " objective = 'binary:logistic',\n",
    " learning_rate =0.1,\n",
    " n_estimators=10)\n",
    "\n",
    "# array of values for max_depth and min_child_weight parameters\n",
    "param_test1 = {'max_depth':range(3,7,1),'min_child_weight':range(1,3,1)}\n",
    "\n",
    "# grid search with cross-validation using the updated model and parameter value array \n",
    "gsearch1 = GridSearchCV(estimator = xgb1, param_grid = param_test1, scoring='roc_auc',iid=False, cv=5)\n",
    "gsearch1.fit(X_train[features],y_train['diagnosis'])\n",
    "gsearch1.cv_results_['params'], gsearch1.best_params_, gsearch1.best_score_"
   ]
  },
  {
   "cell_type": "markdown",
   "metadata": {
    "deletable": true,
    "editable": true
   },
   "source": [
    "The grid search found that the model works best with a max depth of 5, and a minimum child weight of 2. You can update our model accordingly and continue tuning.\n",
    "\n",
    "### 4.7 Tuning gamma<a class=\"anchor\" id=\"bullet-24\"></a>\n",
    "Increasing gamma makes the algorithm more conservative (less prone to overfitting)."
   ]
  },
  {
   "cell_type": "code",
   "execution_count": 17,
   "metadata": {
    "collapsed": false,
    "deletable": true,
    "editable": true,
    "jupyter": {
     "outputs_hidden": false
    }
   },
   "outputs": [
    {
     "data": {
      "text/plain": [
       "([{'gamma': 0.0},\n",
       "  {'gamma': 0.01},\n",
       "  {'gamma': 0.02},\n",
       "  {'gamma': 0.03},\n",
       "  {'gamma': 0.04},\n",
       "  {'gamma': 0.05}],\n",
       " {'gamma': 0.03},\n",
       " 0.98323013415892646)"
      ]
     },
     "execution_count": 17,
     "metadata": {},
     "output_type": "execute_result"
    }
   ],
   "source": [
    "# updating our current model with the max_depth and min_child weight parameter values found in last grid search\n",
    "xgb2 = XGBClassifier(\n",
    " objective='binary:logistic',\n",
    " learning_rate =0.1,\n",
    " n_estimators=10,\n",
    " max_depth=5,\n",
    " min_child_weight=2,\n",
    " gamma=0)\n",
    "\n",
    "# array of values for the gamma parameter\n",
    "gamma_test = {'gamma':[i/100.0 for i in range(0,6)]}\n",
    "\n",
    "# grid search with cross-validation using the updated model and gamma value array \n",
    "gsearch2 = GridSearchCV(estimator = xgb2, param_grid = gamma_test, scoring='roc_auc',iid=False, cv=5)\n",
    "gsearch2.fit(X_train[features],y_train['diagnosis'])\n",
    "gsearch2.cv_results_['params'], gsearch2.best_params_, gsearch2.best_score_"
   ]
  },
  {
   "cell_type": "markdown",
   "metadata": {
    "deletable": true,
    "editable": true
   },
   "source": [
    "The grid search found that the model works best when gamma is 0.03."
   ]
  },
  {
   "cell_type": "markdown",
   "metadata": {
    "deletable": true,
    "editable": true
   },
   "source": [
    "### 4.8 Evaluating updated model<a class=\"anchor\" id=\"bullet-25\"></a>\n",
    "\n",
    "Revisit your evaluation function to see if you need to update the number of boosting rounds. Use the parameter values found for max_depth, min_child_weight, and gamma, and set the number of estimators as 30 to see when it stops running."
   ]
  },
  {
   "cell_type": "code",
   "execution_count": 18,
   "metadata": {
    "collapsed": false,
    "deletable": true,
    "editable": true,
    "jupyter": {
     "outputs_hidden": false
    }
   },
   "outputs": [
    {
     "name": "stdout",
     "output_type": "stream",
     "text": [
      "[0]\ttrain-auc:0.991262+0.00415659\ttest-auc:0.946294+0.0345051\n",
      "[1]\ttrain-auc:0.994621+0.00305501\ttest-auc:0.957756+0.0276168\n",
      "[2]\ttrain-auc:0.995222+0.00271398\ttest-auc:0.959676+0.0263217\n",
      "[3]\ttrain-auc:0.996267+0.00253939\ttest-auc:0.964516+0.0208037\n",
      "[4]\ttrain-auc:0.997576+0.00194061\ttest-auc:0.971918+0.0146403\n",
      "[5]\ttrain-auc:0.998328+0.000817829\ttest-auc:0.973667+0.0151064\n",
      "[6]\ttrain-auc:0.998653+0.000721709\ttest-auc:0.977446+0.0136371\n",
      "[7]\ttrain-auc:0.998747+0.000665641\ttest-auc:0.978145+0.0139851\n",
      "[8]\ttrain-auc:0.998826+0.00072572\ttest-auc:0.979183+0.0134154\n",
      "[9]\ttrain-auc:0.999054+0.000430744\ttest-auc:0.98039+0.013054\n",
      "[10]\ttrain-auc:0.999119+0.000471885\ttest-auc:0.980871+0.0135194\n",
      "[11]\ttrain-auc:0.999183+0.000410013\ttest-auc:0.981016+0.0137015\n",
      "[12]\ttrain-auc:0.999287+0.000328012\ttest-auc:0.981277+0.0140524\n",
      "[13]\ttrain-auc:0.999364+0.000266412\ttest-auc:0.982261+0.0137598\n",
      "[14]\ttrain-auc:0.999358+0.000267429\ttest-auc:0.982305+0.0138369\n",
      "[15]\ttrain-auc:0.999383+0.000249224\ttest-auc:0.982511+0.0137759\n",
      "[16]\ttrain-auc:0.999486+0.000257412\ttest-auc:0.982783+0.0138132\n",
      "[17]\ttrain-auc:0.999499+0.000251081\ttest-auc:0.982979+0.0138683\n",
      "[18]\ttrain-auc:0.999531+0.000219561\ttest-auc:0.982986+0.0133084\n",
      "[19]\ttrain-auc:0.999561+0.000221285\ttest-auc:0.985749+0.00940029\n",
      "[20]\ttrain-auc:0.99965+0.00020898\ttest-auc:0.986083+0.00980749\n",
      "[21]\ttrain-auc:0.999702+0.000174749\ttest-auc:0.986739+0.00927768\n",
      "[22]\ttrain-auc:0.999715+0.000164634\ttest-auc:0.987268+0.0088093\n",
      "\n",
      "Model Report\n",
      "Accuracy : 0.9912\n",
      "AUC Score (Train): 0.999649\n"
     ]
    },
    {
     "data": {
      "image/png": "[encoded data removed]",
      "text/plain": [
       "<matplotlib.figure.Figure at 0x2b513692d128>"
      ]
     },
     "metadata": {},
     "output_type": "display_data"
    }
   ],
   "source": [
    "xgb_check = XGBClassifier(\n",
    " objective='binary:logistic',\n",
    " learning_rate =0.1,\n",
    " n_estimators=30,\n",
    " max_depth=5,\n",
    " min_child_weight=2,\n",
    " gamma=0.03)\n",
    "\n",
    "evaluate_model(xgb_check, X_train, y_train, features)"
   ]
  },
  {
   "cell_type": "markdown",
   "metadata": {
    "deletable": true,
    "editable": true
   },
   "source": [
    "### 4.9 Tuning sampling parameters<a class=\"anchor\" id=\"bullet-26\"></a>\n",
    "\n",
    "**subsample**: The ratio of data that is randomly selected for growing trees<br/>\n",
    "**colsample_bytree**: The ratio of the subsample from which the algorithm selects splitting features\n",
    "\n",
    "**Note:** You have reduced your data set several times now; originally, you divided it into 80/20 train and test sets. You input only the training set to XGBoost, which are segmented twice more by subsample and colsample. Perhaps less than 50% of the original data will be used to train the model, reducing the chance of overfitting and improving the model's ability to generalize. It is one of the reasons why you see a better test score for XGBoost compared to the single decision tree model. "
   ]
  },
  {
   "cell_type": "code",
   "execution_count": 19,
   "metadata": {
    "collapsed": false,
    "deletable": true,
    "editable": true,
    "jupyter": {
     "outputs_hidden": false
    }
   },
   "outputs": [
    {
     "data": {
      "text/plain": [
       "([{'colsample_bytree': 0.5, 'subsample': 0.5},\n",
       "  {'colsample_bytree': 0.5, 'subsample': 0.6},\n",
       "  {'colsample_bytree': 0.5, 'subsample': 0.7},\n",
       "  {'colsample_bytree': 0.5, 'subsample': 0.8},\n",
       "  {'colsample_bytree': 0.6, 'subsample': 0.5},\n",
       "  {'colsample_bytree': 0.6, 'subsample': 0.6},\n",
       "  {'colsample_bytree': 0.6, 'subsample': 0.7},\n",
       "  {'colsample_bytree': 0.6, 'subsample': 0.8},\n",
       "  {'colsample_bytree': 0.7, 'subsample': 0.5},\n",
       "  {'colsample_bytree': 0.7, 'subsample': 0.6},\n",
       "  {'colsample_bytree': 0.7, 'subsample': 0.7},\n",
       "  {'colsample_bytree': 0.7, 'subsample': 0.8},\n",
       "  {'colsample_bytree': 0.8, 'subsample': 0.5},\n",
       "  {'colsample_bytree': 0.8, 'subsample': 0.6},\n",
       "  {'colsample_bytree': 0.8, 'subsample': 0.7},\n",
       "  {'colsample_bytree': 0.8, 'subsample': 0.8}],\n",
       " {'colsample_bytree': 0.5, 'subsample': 0.7},\n",
       " 0.99164086687306496)"
      ]
     },
     "execution_count": 19,
     "metadata": {},
     "output_type": "execute_result"
    }
   ],
   "source": [
    "# updating our current model with the most recent n_estimators\n",
    "xgb3 = XGBClassifier(\n",
    " objective='binary:logistic',\n",
    " learning_rate =0.1,\n",
    " n_estimators=23,\n",
    " max_depth=5,\n",
    " min_child_weight=2,\n",
    " gamma=0.03)\n",
    "\n",
    "# array of values for subsample and colsample_bytree parameters\n",
    "sample_test = {\n",
    " 'subsample':[i/10.0 for i in range(5,9)],\n",
    " 'colsample_bytree':[i/10.0 for i in range(5,9)]\n",
    "}\n",
    "\n",
    "# grid search with cross validation for sampling parameters\n",
    "gsearch3 = GridSearchCV(estimator = xgb3, param_grid = sample_test, scoring='roc_auc',iid=False, cv=5)\n",
    "gsearch3.fit(X_train[features],y_train['diagnosis'])\n",
    "gsearch3.cv_results_['params'], gsearch3.best_params_, gsearch3.best_score_"
   ]
  },
  {
   "cell_type": "markdown",
   "metadata": {
    "deletable": true,
    "editable": true
   },
   "source": [
    "The grid search found that the model works best with a colsample_bytree of 0.5, and a subsample of 0.7."
   ]
  },
  {
   "cell_type": "markdown",
   "metadata": {
    "deletable": true,
    "editable": true
   },
   "source": [
    "### 4.10 Tuning lambda and alpha<a class=\"anchor\" id=\"bullet-27\"></a>\n",
    "\n",
    "Lambda and alpha are both regularization parameters, which mathematically reduce the impact of features that might be too dominant in the model. The difference between the two is in how they apply these penalties.\n",
    "\n",
    "**lambda**: Applies L2 regularization, which shrinks the weights of all selected features equally. The default value is 0. <br/>\n",
    "**alpha**: Applies L1 regularization, which can shrink the weights down to 0 - essentially discarding features that have little impact on the model. The default is 1.\n",
    "\n",
    "These parameters have more significant effects on large models (with more features). Tune them to see how it impacts your model."
   ]
  },
  {
   "cell_type": "code",
   "execution_count": 20,
   "metadata": {
    "collapsed": false,
    "deletable": true,
    "editable": true,
    "jupyter": {
     "outputs_hidden": false
    }
   },
   "outputs": [
    {
     "data": {
      "text/plain": [
       "([{'reg_alpha': 0, 'reg_lambda': 1},\n",
       "  {'reg_alpha': 0, 'reg_lambda': 1.1},\n",
       "  {'reg_alpha': 0, 'reg_lambda': 1.2},\n",
       "  {'reg_alpha': 0, 'reg_lambda': 1.3},\n",
       "  {'reg_alpha': 0.01, 'reg_lambda': 1},\n",
       "  {'reg_alpha': 0.01, 'reg_lambda': 1.1},\n",
       "  {'reg_alpha': 0.01, 'reg_lambda': 1.2},\n",
       "  {'reg_alpha': 0.01, 'reg_lambda': 1.3},\n",
       "  {'reg_alpha': 0.1, 'reg_lambda': 1},\n",
       "  {'reg_alpha': 0.1, 'reg_lambda': 1.1},\n",
       "  {'reg_alpha': 0.1, 'reg_lambda': 1.2},\n",
       "  {'reg_alpha': 0.1, 'reg_lambda': 1.3}],\n",
       " {'reg_alpha': 0.01, 'reg_lambda': 1},\n",
       " 0.99184726522187816)"
      ]
     },
     "execution_count": 20,
     "metadata": {},
     "output_type": "execute_result"
    }
   ],
   "source": [
    "# updating our current model with the sampling parameters found in the last grid search\n",
    "xgb4 = XGBClassifier(\n",
    " objective='binary:logistic',\n",
    " learning_rate =0.1,\n",
    " n_estimators=23,\n",
    " max_depth=5,\n",
    " min_child_weight=2,\n",
    " gamma=0.03, \n",
    " subsample=0.7,\n",
    " colsample_bytree=0.5)\n",
    "\n",
    "# array of values for subsample and colsample_bytree parameters\n",
    "reg_test = {'reg_alpha':[0, 0.01, 0.1], 'reg_lambda':[1, 1.1, 1.2, 1.3]}\n",
    "\n",
    "# grid search with cross validation for regularization parameters\n",
    "gsearch4 = GridSearchCV(estimator = xgb4, param_grid = reg_test, scoring='roc_auc',iid=False, cv=5)\n",
    "gsearch4.fit(X_train[features],y_train['diagnosis'])\n",
    "gsearch4.cv_results_['params'], gsearch4.best_params_, gsearch4.best_score_"
   ]
  },
  {
   "cell_type": "markdown",
   "metadata": {
    "deletable": true,
    "editable": true
   },
   "source": [
    "The grid search found that the model works best when the reg_alpha regualization is 0.01 and the reg_lambda regulization is 1."
   ]
  },
  {
   "cell_type": "markdown",
   "metadata": {
    "deletable": true,
    "editable": true
   },
   "source": [
    "### 4.11 Evaluating final model<a class=\"anchor\" id=\"bullet-28\"></a>\n",
    "Run the current model through your evaluation function a final time. Compared to the model with default parameters, tuning has improved accuracy from 0.9824 to 0.9912, and the AUC score from 0.998772 to 0.999195. You can see why XGBoost is most popular for competition use, where those fourth decimal places really count!"
   ]
  },
  {
   "cell_type": "code",
   "execution_count": 21,
   "metadata": {
    "collapsed": false,
    "deletable": true,
    "editable": true,
    "jupyter": {
     "outputs_hidden": false
    }
   },
   "outputs": [
    {
     "name": "stdout",
     "output_type": "stream",
     "text": [
      "[0]\ttrain-auc:0.991262+0.00415659\ttest-auc:0.946294+0.0345051\n",
      "[1]\ttrain-auc:0.994621+0.00305501\ttest-auc:0.957756+0.0276168\n",
      "[2]\ttrain-auc:0.995222+0.00271398\ttest-auc:0.959676+0.0263217\n",
      "[3]\ttrain-auc:0.996267+0.00253939\ttest-auc:0.964516+0.0208037\n",
      "[4]\ttrain-auc:0.997576+0.00194061\ttest-auc:0.971918+0.0146403\n",
      "[5]\ttrain-auc:0.997686+0.00194212\ttest-auc:0.973667+0.0151064\n",
      "[6]\ttrain-auc:0.99863+0.000761627\ttest-auc:0.977549+0.0137967\n",
      "[7]\ttrain-auc:0.998715+0.000685681\ttest-auc:0.977856+0.0140668\n",
      "[8]\ttrain-auc:0.998887+0.000614441\ttest-auc:0.97879+0.0133742\n",
      "[9]\ttrain-auc:0.999005+0.000496548\ttest-auc:0.980274+0.0131517\n",
      "[10]\ttrain-auc:0.999145+0.000393217\ttest-auc:0.980969+0.0135316\n",
      "[11]\ttrain-auc:0.999228+0.000359222\ttest-auc:0.981501+0.0138705\n",
      "[12]\ttrain-auc:0.999298+0.000292906\ttest-auc:0.981847+0.0138087\n",
      "[13]\ttrain-auc:0.999441+0.000257661\ttest-auc:0.982336+0.013756\n",
      "\n",
      "Model Report\n",
      "Accuracy : 0.9912\n",
      "AUC Score (Train): 0.999195\n"
     ]
    },
    {
     "data": {
      "image/png": "[encoded data removed]",
      "text/plain": [
       "<matplotlib.figure.Figure at 0x2b51369176d8>"
      ]
     },
     "metadata": {},
     "output_type": "display_data"
    }
   ],
   "source": [
    "# updated model with alpha value found with last grid search. (lambda does not need to be set, since default is 1)\n",
    "xgb_final = XGBClassifier(\n",
    " objective='binary:logistic',\n",
    " learning_rate =0.1,\n",
    " n_estimators=30,\n",
    " max_depth=5,\n",
    " min_child_weight=2,\n",
    " gamma=0.03,\n",
    " reg_alpha=0.01)\n",
    "\n",
    "evaluate_model(xgb_final, X_train, y_train, features)"
   ]
  },
  {
   "cell_type": "markdown",
   "metadata": {
    "deletable": true,
    "editable": true
   },
   "source": [
    "### 4.12 Predict on the test set<a class=\"anchor\" id=\"bullet-29\"></a>\n",
    "Finally, predict on the test data you reserved at the beginning. The XGBoost ensemble gives you approximately a 3% increase in accuracy and a 5% increase in AUC score over a single decision tree."
   ]
  },
  {
   "cell_type": "code",
   "execution_count": 22,
   "metadata": {
    "collapsed": false,
    "deletable": true,
    "editable": true,
    "jupyter": {
     "outputs_hidden": false
    },
    "scrolled": true
   },
   "outputs": [
    {
     "name": "stdout",
     "output_type": "stream",
     "text": [
      "Accuracy : 0.9561\n",
      "AUC Score (Test): 0.981647\n"
     ]
    }
   ],
   "source": [
    "test_features = [x for x in X_test.columns if x not in ['id']]\n",
    "\n",
    "#Predict test set:\n",
    "test_predictions = xgb_final.predict(X_test[test_features])\n",
    "test_predprob = xgb_final.predict_proba(X_test[test_features])[:,1]\n",
    "        \n",
    "#Print model report:\n",
    "print(\"Accuracy : %.4g\" % metrics.accuracy_score(y_test['diagnosis'].values, test_predictions))\n",
    "print(\"AUC Score (Test): %f\" % metrics.roc_auc_score(y_test['diagnosis'], test_predprob))"
   ]
  },
  {
   "cell_type": "markdown",
   "metadata": {
    "deletable": true,
    "editable": true
   },
   "source": [
    "If you want to increase the accuracy and AUC score even further, you can restart the parameter tuning process with a smaller learning rate. The next value to try is 0.01. "
   ]
  },
  {
   "cell_type": "markdown",
   "metadata": {
    "deletable": true,
    "editable": true
   },
   "source": [
    "## Summary\n",
    "You've found out how to use a decision tree as a machine learning model to classify cancer data, and you've seen how you how tools like XGBoost can be used to tune parameters to improve the accuracy of your model.\n",
    "\n",
    "### Learn more:\n",
    "* <p id=\"footnote-1\"><sup>[1]</sup><a id=\"fn1\" href=\"https://www.analyticsvidhya.com/blog/2016/03/complete-guide-parameter-tuning-xgboost-with-codes-python\" target=\"_blank\" rel=\"noopener noreferrer\">Jain, A. (March 1, 2016) Complete Guide to Parameter Tuning in XGBoost(with codes in Python)</a>\n",
    "* <a href=\"https://en.wikipedia.org/wiki/Feature_engineering\" target=\"_blank\" rel=\"noopener no referrer\">Feature engineering</a>\n",
    "* <a href=\"https://en.wikipedia.org/wiki/Decision_tree_learning#Metrics\" target=\"_blank\" rel=\"noopener noreferrer\">Decision tree learning metrics</a>\n",
    "* <a href=\"https://www.quora.com/Machine-Learning-What-is-an-intuitive-explanation-of-AUC\" rel=\"noopener noreferrer\">An intuitive explanation of AUC</a>\n",
    "* <a href=\"http://www.wikihow.com/Play-20-Questions\" target=\"_blank\" rel=\"noopener noreferrer\">How to play 20 questions</a>\n"
   ]
  },
  {
   "cell_type": "markdown",
   "metadata": {
    "deletable": true,
    "editable": true
   },
   "source": [
    "### Author\n",
    "Natalie Ho studies statistics at the University of Waterloo."
   ]
  },
  {
   "cell_type": "markdown",
   "metadata": {
    "deletable": true,
    "editable": true
   },
   "source": [
    "### Data citations\n",
    "\n",
    "<p id=\"footnote-2\"> Lichman, M. (2013). [UCI Machine Learning Repository](http://archive.ics.uci.edu/ml). Irvine, CA: University of California, School of Information and Computer Science. <a id=\"fn2\"></a>"
   ]
  },
  {
   "cell_type": "markdown",
   "metadata": {
    "deletable": true,
    "editable": true
   },
   "source": [
    "Copyright © IBM Corp. 2017, 2018. This notebook and its source code are released under the terms of the MIT License."
   ]
  }
 ],
 "metadata": {
  "kernelspec": {
   "display_name": "Python 3.6",
   "language": "python",
   "name": "python3"
  },
  "language_info": {
   "codemirror_mode": {
    "name": "ipython",
    "version": 3
   },
   "file_extension": ".py",
   "mimetype": "text/x-python",
   "name": "python",
   "nbconvert_exporter": "python",
   "pygments_lexer": "ipython3",
   "version": "3.6.10"
  }
 },
 "nbformat": 4,
 "nbformat_minor": 4
}
